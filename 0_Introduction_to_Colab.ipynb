{
  "nbformat": 4,
  "nbformat_minor": 0,
  "metadata": {
    "colab": {
      "name": "0_Introduction to Colab.ipynb",
      "provenance": [],
      "mount_file_id": "1yVKv51bUBp1Plty5hooYKKOFQWWnSFyB",
      "authorship_tag": "ABX9TyNj9Vz0gdfmEf5S1+XBDM1Y",
      "include_colab_link": true
    },
    "kernelspec": {
      "name": "python3",
      "display_name": "Python 3"
    }
  },
  "cells": [
    {
      "cell_type": "markdown",
      "metadata": {
        "id": "view-in-github",
        "colab_type": "text"
      },
      "source": [
        "<a href=\"https://colab.research.google.com/github/bvkranthi/fdptest1/blob/main/0_Introduction_to_Colab.ipynb\" target=\"_parent\"><img src=\"https://colab.research.google.com/assets/colab-badge.svg\" alt=\"Open In Colab\"/></a>"
      ]
    },
    {
      "cell_type": "markdown",
      "metadata": {
        "id": "VR5ffU4_P1Mz"
      },
      "source": [
        "Note: As Colab implicitly uses Google Drive for storing your notebooks, ensure that you\n",
        "are logged in to your Google Drive account before proceeding further."
      ]
    },
    {
      "cell_type": "markdown",
      "metadata": {
        "id": "6etKCj3ZQNqQ"
      },
      "source": [
        "Open the following URL in your browser: https://colab.research.google.com\n",
        "\n",
        "![picture](https://www.tutorialspoint.com/google_colab/images/colab_search.jpg)"
      ]
    },
    {
      "cell_type": "code",
      "metadata": {
        "id": "nebRyid79eTX",
        "colab": {
          "base_uri": "https://localhost:8080/"
        },
        "outputId": "406a9fee-32ce-4980-d11f-153c66be9f71"
      },
      "source": [
        "!pwd"
      ],
      "execution_count": 1,
      "outputs": [
        {
          "output_type": "stream",
          "text": [
            "/content\n"
          ],
          "name": "stdout"
        }
      ]
    },
    {
      "cell_type": "code",
      "metadata": {
        "id": "TiFs9XQF9zKe",
        "colab": {
          "base_uri": "https://localhost:8080/"
        },
        "outputId": "c6c513fe-5025-4c45-8881-4adbfb6a01ed"
      },
      "source": [
        "cd sample_data/"
      ],
      "execution_count": 2,
      "outputs": [
        {
          "output_type": "stream",
          "text": [
            "/content/sample_data\n"
          ],
          "name": "stdout"
        }
      ]
    },
    {
      "cell_type": "code",
      "metadata": {
        "id": "Ho1xr83F97He",
        "colab": {
          "base_uri": "https://localhost:8080/"
        },
        "outputId": "20bb3e03-3f2c-47ca-9056-41ce30d17dfd"
      },
      "source": [
        "!ls"
      ],
      "execution_count": 3,
      "outputs": [
        {
          "output_type": "stream",
          "text": [
            "anscombe.json\t\t      mnist_test.csv\n",
            "california_housing_test.csv   mnist_train_small.csv\n",
            "california_housing_train.csv  README.md\n"
          ],
          "name": "stdout"
        }
      ]
    },
    {
      "cell_type": "code",
      "metadata": {
        "colab": {
          "base_uri": "https://localhost:8080/"
        },
        "id": "pddaM3sziD0G",
        "outputId": "74c8ac90-74b0-492d-9286-edcc2523caae"
      },
      "source": [
        "cd .."
      ],
      "execution_count": 4,
      "outputs": [
        {
          "output_type": "stream",
          "text": [
            "/content\n"
          ],
          "name": "stdout"
        }
      ]
    },
    {
      "cell_type": "code",
      "metadata": {
        "id": "nqeMtZPF9_BG",
        "colab": {
          "base_uri": "https://localhost:8080/"
        },
        "outputId": "4218f55f-9d1c-4035-dafc-c206f3031ad2"
      },
      "source": [
        "!git clone https://github.com/anujshah1003/own_data_cnn_implementation_keras.git"
      ],
      "execution_count": 5,
      "outputs": [
        {
          "output_type": "stream",
          "text": [
            "Cloning into 'own_data_cnn_implementation_keras'...\n",
            "remote: Enumerating objects: 51, done.\u001b[K\n",
            "remote: Total 51 (delta 0), reused 0 (delta 0), pack-reused 51\u001b[K\n",
            "Unpacking objects: 100% (51/51), done.\n"
          ],
          "name": "stdout"
        }
      ]
    },
    {
      "cell_type": "code",
      "metadata": {
        "id": "wkWQ7Gp0-OvW",
        "colab": {
          "base_uri": "https://localhost:8080/"
        },
        "outputId": "38849c00-5b3a-418f-f908-a04777c390bc"
      },
      "source": [
        "cd own_data_cnn_implementation_keras/"
      ],
      "execution_count": 6,
      "outputs": [
        {
          "output_type": "stream",
          "text": [
            "/content/own_data_cnn_implementation_keras\n"
          ],
          "name": "stdout"
        }
      ]
    },
    {
      "cell_type": "code",
      "metadata": {
        "id": "LNz0CABp-R01",
        "colab": {
          "base_uri": "https://localhost:8080/"
        },
        "outputId": "98a9f902-cfe4-4040-fe8d-139e20490e06"
      },
      "source": [
        "!ls"
      ],
      "execution_count": 7,
      "outputs": [
        {
          "output_type": "stream",
          "text": [
            "_config.yml\t    data.zip   updated_custom_data_cnn.py\n",
            "custom_data_cnn.py  README.md\n"
          ],
          "name": "stdout"
        }
      ]
    },
    {
      "cell_type": "code",
      "metadata": {
        "id": "5fJmDdvC-Utl",
        "colab": {
          "base_uri": "https://localhost:8080/"
        },
        "outputId": "7d8fec94-36d0-4517-aedf-f72821af8218"
      },
      "source": [
        "!unzip data.zip"
      ],
      "execution_count": 8,
      "outputs": [
        {
          "output_type": "stream",
          "text": [
            "Archive:  data.zip\n",
            "   creating: data/\n",
            "   creating: data/cats/\n",
            "  inflating: data/cats/cat.1.jpg     \n",
            "  inflating: data/cats/cat.10.jpg    \n",
            "  inflating: data/cats/cat.100.jpg   \n",
            "  inflating: data/cats/cat.101.jpg   \n",
            "  inflating: data/cats/cat.102.jpg   \n",
            "  inflating: data/cats/cat.103.jpg   \n",
            "  inflating: data/cats/cat.104.jpg   \n",
            "  inflating: data/cats/cat.105.jpg   \n",
            "  inflating: data/cats/cat.106.jpg   \n",
            "  inflating: data/cats/cat.107.jpg   \n",
            "  inflating: data/cats/cat.108.jpg   \n",
            "  inflating: data/cats/cat.109.jpg   \n",
            "  inflating: data/cats/cat.11.jpg    \n",
            "  inflating: data/cats/cat.110.jpg   \n",
            "  inflating: data/cats/cat.111.jpg   \n",
            "  inflating: data/cats/cat.112.jpg   \n",
            "  inflating: data/cats/cat.113.jpg   \n",
            "  inflating: data/cats/cat.114.jpg   \n",
            "  inflating: data/cats/cat.115.jpg   \n",
            "  inflating: data/cats/cat.116.jpg   \n",
            "  inflating: data/cats/cat.117.jpg   \n",
            "  inflating: data/cats/cat.118.jpg   \n",
            "  inflating: data/cats/cat.119.jpg   \n",
            "  inflating: data/cats/cat.12.jpg    \n",
            "  inflating: data/cats/cat.120.jpg   \n",
            "  inflating: data/cats/cat.121.jpg   \n",
            "  inflating: data/cats/cat.122.jpg   \n",
            "  inflating: data/cats/cat.123.jpg   \n",
            "  inflating: data/cats/cat.124.jpg   \n",
            "  inflating: data/cats/cat.125.jpg   \n",
            "  inflating: data/cats/cat.126.jpg   \n",
            "  inflating: data/cats/cat.127.jpg   \n",
            "  inflating: data/cats/cat.128.jpg   \n",
            "  inflating: data/cats/cat.129.jpg   \n",
            "  inflating: data/cats/cat.13.jpg    \n",
            "  inflating: data/cats/cat.130.jpg   \n",
            "  inflating: data/cats/cat.131.jpg   \n",
            "  inflating: data/cats/cat.132.jpg   \n",
            "  inflating: data/cats/cat.133.jpg   \n",
            "  inflating: data/cats/cat.134.jpg   \n",
            "  inflating: data/cats/cat.135.jpg   \n",
            "  inflating: data/cats/cat.136.jpg   \n",
            "  inflating: data/cats/cat.137.jpg   \n",
            "  inflating: data/cats/cat.138.jpg   \n",
            "  inflating: data/cats/cat.139.jpg   \n",
            "  inflating: data/cats/cat.14.jpg    \n",
            "  inflating: data/cats/cat.140.jpg   \n",
            "  inflating: data/cats/cat.141.jpg   \n",
            "  inflating: data/cats/cat.142.jpg   \n",
            "  inflating: data/cats/cat.143.jpg   \n",
            "  inflating: data/cats/cat.144.jpg   \n",
            "  inflating: data/cats/cat.145.jpg   \n",
            "  inflating: data/cats/cat.146.jpg   \n",
            "  inflating: data/cats/cat.147.jpg   \n",
            "  inflating: data/cats/cat.148.jpg   \n",
            "  inflating: data/cats/cat.149.jpg   \n",
            "  inflating: data/cats/cat.15.jpg    \n",
            "  inflating: data/cats/cat.150.jpg   \n",
            "  inflating: data/cats/cat.151.jpg   \n",
            "  inflating: data/cats/cat.152.jpg   \n",
            "  inflating: data/cats/cat.153.jpg   \n",
            "  inflating: data/cats/cat.154.jpg   \n",
            "  inflating: data/cats/cat.155.jpg   \n",
            "  inflating: data/cats/cat.156.jpg   \n",
            "  inflating: data/cats/cat.157.jpg   \n",
            "  inflating: data/cats/cat.158.jpg   \n",
            "  inflating: data/cats/cat.159.jpg   \n",
            "  inflating: data/cats/cat.16.jpg    \n",
            "  inflating: data/cats/cat.160.jpg   \n",
            "  inflating: data/cats/cat.161.jpg   \n",
            "  inflating: data/cats/cat.162.jpg   \n",
            "  inflating: data/cats/cat.163.jpg   \n",
            "  inflating: data/cats/cat.164.jpg   \n",
            "  inflating: data/cats/cat.165.jpg   \n",
            "  inflating: data/cats/cat.166.jpg   \n",
            "  inflating: data/cats/cat.167.jpg   \n",
            "  inflating: data/cats/cat.168.jpg   \n",
            "  inflating: data/cats/cat.169.jpg   \n",
            "  inflating: data/cats/cat.17.jpg    \n",
            "  inflating: data/cats/cat.170.jpg   \n",
            "  inflating: data/cats/cat.171.jpg   \n",
            "  inflating: data/cats/cat.172.jpg   \n",
            "  inflating: data/cats/cat.173.jpg   \n",
            "  inflating: data/cats/cat.174.jpg   \n",
            "  inflating: data/cats/cat.175.jpg   \n",
            "  inflating: data/cats/cat.176.jpg   \n",
            "  inflating: data/cats/cat.177.jpg   \n",
            "  inflating: data/cats/cat.178.jpg   \n",
            "  inflating: data/cats/cat.179.jpg   \n",
            "  inflating: data/cats/cat.18.jpg    \n",
            "  inflating: data/cats/cat.180.jpg   \n",
            "  inflating: data/cats/cat.181.jpg   \n",
            "  inflating: data/cats/cat.182.jpg   \n",
            "  inflating: data/cats/cat.183.jpg   \n",
            "  inflating: data/cats/cat.184.jpg   \n",
            "  inflating: data/cats/cat.185.jpg   \n",
            "  inflating: data/cats/cat.186.jpg   \n",
            "  inflating: data/cats/cat.187.jpg   \n",
            "  inflating: data/cats/cat.188.jpg   \n",
            "  inflating: data/cats/cat.189.jpg   \n",
            "  inflating: data/cats/cat.19.jpg    \n",
            "  inflating: data/cats/cat.190.jpg   \n",
            "  inflating: data/cats/cat.191.jpg   \n",
            "  inflating: data/cats/cat.192.jpg   \n",
            "  inflating: data/cats/cat.193.jpg   \n",
            "  inflating: data/cats/cat.194.jpg   \n",
            "  inflating: data/cats/cat.195.jpg   \n",
            "  inflating: data/cats/cat.196.jpg   \n",
            "  inflating: data/cats/cat.197.jpg   \n",
            "  inflating: data/cats/cat.198.jpg   \n",
            "  inflating: data/cats/cat.199.jpg   \n",
            "  inflating: data/cats/cat.2.jpg     \n",
            "  inflating: data/cats/cat.20.jpg    \n",
            "  inflating: data/cats/cat.200.jpg   \n",
            "  inflating: data/cats/cat.201.jpg   \n",
            "  inflating: data/cats/cat.202.jpg   \n",
            "  inflating: data/cats/cat.21.jpg    \n",
            "  inflating: data/cats/cat.22.jpg    \n",
            "  inflating: data/cats/cat.23.jpg    \n",
            "  inflating: data/cats/cat.24.jpg    \n",
            "  inflating: data/cats/cat.25.jpg    \n",
            "  inflating: data/cats/cat.26.jpg    \n",
            "  inflating: data/cats/cat.27.jpg    \n",
            "  inflating: data/cats/cat.28.jpg    \n",
            "  inflating: data/cats/cat.29.jpg    \n",
            "  inflating: data/cats/cat.3.jpg     \n",
            "  inflating: data/cats/cat.30.jpg    \n",
            "  inflating: data/cats/cat.31.jpg    \n",
            "  inflating: data/cats/cat.32.jpg    \n",
            "  inflating: data/cats/cat.33.jpg    \n",
            "  inflating: data/cats/cat.34.jpg    \n",
            "  inflating: data/cats/cat.35.jpg    \n",
            "  inflating: data/cats/cat.36.jpg    \n",
            "  inflating: data/cats/cat.37.jpg    \n",
            "  inflating: data/cats/cat.38.jpg    \n",
            "  inflating: data/cats/cat.39.jpg    \n",
            "  inflating: data/cats/cat.4.jpg     \n",
            "  inflating: data/cats/cat.40.jpg    \n",
            "  inflating: data/cats/cat.41.jpg    \n",
            "  inflating: data/cats/cat.42.jpg    \n",
            "  inflating: data/cats/cat.43.jpg    \n",
            "  inflating: data/cats/cat.44.jpg    \n",
            "  inflating: data/cats/cat.45.jpg    \n",
            "  inflating: data/cats/cat.46.jpg    \n",
            "  inflating: data/cats/cat.47.jpg    \n",
            "  inflating: data/cats/cat.48.jpg    \n",
            "  inflating: data/cats/cat.49.jpg    \n",
            "  inflating: data/cats/cat.5.jpg     \n",
            "  inflating: data/cats/cat.50.jpg    \n",
            "  inflating: data/cats/cat.51.jpg    \n",
            "  inflating: data/cats/cat.52.jpg    \n",
            "  inflating: data/cats/cat.53.jpg    \n",
            "  inflating: data/cats/cat.54.jpg    \n",
            "  inflating: data/cats/cat.55.jpg    \n",
            "  inflating: data/cats/cat.56.jpg    \n",
            "  inflating: data/cats/cat.57.jpg    \n",
            "  inflating: data/cats/cat.58.jpg    \n",
            "  inflating: data/cats/cat.59.jpg    \n",
            "  inflating: data/cats/cat.6.jpg     \n",
            "  inflating: data/cats/cat.60.jpg    \n",
            "  inflating: data/cats/cat.61.jpg    \n",
            "  inflating: data/cats/cat.62.jpg    \n",
            "  inflating: data/cats/cat.63.jpg    \n",
            "  inflating: data/cats/cat.64.jpg    \n",
            "  inflating: data/cats/cat.65.jpg    \n",
            "  inflating: data/cats/cat.66.jpg    \n",
            "  inflating: data/cats/cat.67.jpg    \n",
            "  inflating: data/cats/cat.68.jpg    \n",
            "  inflating: data/cats/cat.69.jpg    \n",
            "  inflating: data/cats/cat.7.jpg     \n",
            "  inflating: data/cats/cat.70.jpg    \n",
            "  inflating: data/cats/cat.71.jpg    \n",
            "  inflating: data/cats/cat.72.jpg    \n",
            "  inflating: data/cats/cat.73.jpg    \n",
            "  inflating: data/cats/cat.74.jpg    \n",
            "  inflating: data/cats/cat.75.jpg    \n",
            "  inflating: data/cats/cat.76.jpg    \n",
            "  inflating: data/cats/cat.77.jpg    \n",
            "  inflating: data/cats/cat.78.jpg    \n",
            "  inflating: data/cats/cat.79.jpg    \n",
            "  inflating: data/cats/cat.8.jpg     \n",
            "  inflating: data/cats/cat.80.jpg    \n",
            "  inflating: data/cats/cat.81.jpg    \n",
            "  inflating: data/cats/cat.82.jpg    \n",
            "  inflating: data/cats/cat.83.jpg    \n",
            "  inflating: data/cats/cat.84.jpg    \n",
            "  inflating: data/cats/cat.85.jpg    \n",
            "  inflating: data/cats/cat.86.jpg    \n",
            "  inflating: data/cats/cat.87.jpg    \n",
            "  inflating: data/cats/cat.88.jpg    \n",
            "  inflating: data/cats/cat.89.jpg    \n",
            "  inflating: data/cats/cat.9.jpg     \n",
            "  inflating: data/cats/cat.90.jpg    \n",
            "  inflating: data/cats/cat.91.jpg    \n",
            "  inflating: data/cats/cat.92.jpg    \n",
            "  inflating: data/cats/cat.93.jpg    \n",
            "  inflating: data/cats/cat.94.jpg    \n",
            "  inflating: data/cats/cat.95.jpg    \n",
            "  inflating: data/cats/cat.96.jpg    \n",
            "  inflating: data/cats/cat.97.jpg    \n",
            "  inflating: data/cats/cat.98.jpg    \n",
            "  inflating: data/cats/cat.99.jpg    \n",
            "   creating: data/dogs/\n",
            "  inflating: data/dogs/dog.1.jpg     \n",
            "  inflating: data/dogs/dog.10.jpg    \n",
            "  inflating: data/dogs/dog.100.jpg   \n",
            "  inflating: data/dogs/dog.101.jpg   \n",
            "  inflating: data/dogs/dog.102.jpg   \n",
            "  inflating: data/dogs/dog.103.jpg   \n",
            "  inflating: data/dogs/dog.104.jpg   \n",
            "  inflating: data/dogs/dog.105.jpg   \n",
            "  inflating: data/dogs/dog.106.jpg   \n",
            "  inflating: data/dogs/dog.107.jpg   \n",
            "  inflating: data/dogs/dog.108.jpg   \n",
            "  inflating: data/dogs/dog.109.jpg   \n",
            "  inflating: data/dogs/dog.11.jpg    \n",
            "  inflating: data/dogs/dog.110.jpg   \n",
            "  inflating: data/dogs/dog.111.jpg   \n",
            "  inflating: data/dogs/dog.112.jpg   \n",
            "  inflating: data/dogs/dog.113.jpg   \n",
            "  inflating: data/dogs/dog.114.jpg   \n",
            "  inflating: data/dogs/dog.115.jpg   \n",
            "  inflating: data/dogs/dog.116.jpg   \n",
            "  inflating: data/dogs/dog.117.jpg   \n",
            "  inflating: data/dogs/dog.118.jpg   \n",
            "  inflating: data/dogs/dog.119.jpg   \n",
            "  inflating: data/dogs/dog.12.jpg    \n",
            "  inflating: data/dogs/dog.120.jpg   \n",
            "  inflating: data/dogs/dog.121.jpg   \n",
            "  inflating: data/dogs/dog.122.jpg   \n",
            "  inflating: data/dogs/dog.123.jpg   \n",
            "  inflating: data/dogs/dog.124.jpg   \n",
            "  inflating: data/dogs/dog.125.jpg   \n",
            "  inflating: data/dogs/dog.126.jpg   \n",
            "  inflating: data/dogs/dog.127.jpg   \n",
            "  inflating: data/dogs/dog.128.jpg   \n",
            "  inflating: data/dogs/dog.129.jpg   \n",
            "  inflating: data/dogs/dog.13.jpg    \n",
            "  inflating: data/dogs/dog.130.jpg   \n",
            "  inflating: data/dogs/dog.131.jpg   \n",
            "  inflating: data/dogs/dog.132.jpg   \n",
            "  inflating: data/dogs/dog.133.jpg   \n",
            "  inflating: data/dogs/dog.134.jpg   \n",
            "  inflating: data/dogs/dog.135.jpg   \n",
            "  inflating: data/dogs/dog.136.jpg   \n",
            "  inflating: data/dogs/dog.137.jpg   \n",
            "  inflating: data/dogs/dog.138.jpg   \n",
            "  inflating: data/dogs/dog.139.jpg   \n",
            "  inflating: data/dogs/dog.14.jpg    \n",
            "  inflating: data/dogs/dog.140.jpg   \n",
            "  inflating: data/dogs/dog.141.jpg   \n",
            "  inflating: data/dogs/dog.142.jpg   \n",
            "  inflating: data/dogs/dog.143.jpg   \n",
            "  inflating: data/dogs/dog.144.jpg   \n",
            "  inflating: data/dogs/dog.145.jpg   \n",
            "  inflating: data/dogs/dog.146.jpg   \n",
            "  inflating: data/dogs/dog.147.jpg   \n",
            "  inflating: data/dogs/dog.148.jpg   \n",
            "  inflating: data/dogs/dog.149.jpg   \n",
            "  inflating: data/dogs/dog.15.jpg    \n",
            "  inflating: data/dogs/dog.150.jpg   \n",
            "  inflating: data/dogs/dog.151.jpg   \n",
            "  inflating: data/dogs/dog.152.jpg   \n",
            "  inflating: data/dogs/dog.153.jpg   \n",
            "  inflating: data/dogs/dog.154.jpg   \n",
            "  inflating: data/dogs/dog.155.jpg   \n",
            "  inflating: data/dogs/dog.156.jpg   \n",
            "  inflating: data/dogs/dog.157.jpg   \n",
            "  inflating: data/dogs/dog.158.jpg   \n",
            "  inflating: data/dogs/dog.159.jpg   \n",
            "  inflating: data/dogs/dog.16.jpg    \n",
            "  inflating: data/dogs/dog.160.jpg   \n",
            "  inflating: data/dogs/dog.161.jpg   \n",
            "  inflating: data/dogs/dog.162.jpg   \n",
            "  inflating: data/dogs/dog.163.jpg   \n",
            "  inflating: data/dogs/dog.164.jpg   \n",
            "  inflating: data/dogs/dog.165.jpg   \n",
            "  inflating: data/dogs/dog.166.jpg   \n",
            "  inflating: data/dogs/dog.167.jpg   \n",
            "  inflating: data/dogs/dog.168.jpg   \n",
            "  inflating: data/dogs/dog.169.jpg   \n",
            "  inflating: data/dogs/dog.17.jpg    \n",
            "  inflating: data/dogs/dog.170.jpg   \n",
            "  inflating: data/dogs/dog.171.jpg   \n",
            "  inflating: data/dogs/dog.172.jpg   \n",
            "  inflating: data/dogs/dog.173.jpg   \n",
            "  inflating: data/dogs/dog.174.jpg   \n",
            "  inflating: data/dogs/dog.175.jpg   \n",
            "  inflating: data/dogs/dog.176.jpg   \n",
            "  inflating: data/dogs/dog.177.jpg   \n",
            "  inflating: data/dogs/dog.178.jpg   \n",
            "  inflating: data/dogs/dog.179.jpg   \n",
            "  inflating: data/dogs/dog.18.jpg    \n",
            "  inflating: data/dogs/dog.180.jpg   \n",
            "  inflating: data/dogs/dog.181.jpg   \n",
            "  inflating: data/dogs/dog.182.jpg   \n",
            "  inflating: data/dogs/dog.183.jpg   \n",
            "  inflating: data/dogs/dog.184.jpg   \n",
            "  inflating: data/dogs/dog.185.jpg   \n",
            "  inflating: data/dogs/dog.186.jpg   \n",
            "  inflating: data/dogs/dog.187.jpg   \n",
            "  inflating: data/dogs/dog.188.jpg   \n",
            "  inflating: data/dogs/dog.189.jpg   \n",
            "  inflating: data/dogs/dog.19.jpg    \n",
            "  inflating: data/dogs/dog.190.jpg   \n",
            "  inflating: data/dogs/dog.191.jpg   \n",
            "  inflating: data/dogs/dog.192.jpg   \n",
            "  inflating: data/dogs/dog.193.jpg   \n",
            "  inflating: data/dogs/dog.194.jpg   \n",
            "  inflating: data/dogs/dog.195.jpg   \n",
            "  inflating: data/dogs/dog.196.jpg   \n",
            "  inflating: data/dogs/dog.197.jpg   \n",
            "  inflating: data/dogs/dog.198.jpg   \n",
            "  inflating: data/dogs/dog.199.jpg   \n",
            "  inflating: data/dogs/dog.2.jpg     \n",
            "  inflating: data/dogs/dog.20.jpg    \n",
            "  inflating: data/dogs/dog.200.jpg   \n",
            "  inflating: data/dogs/dog.201.jpg   \n",
            "  inflating: data/dogs/dog.202.jpg   \n",
            "  inflating: data/dogs/dog.21.jpg    \n",
            "  inflating: data/dogs/dog.22.jpg    \n",
            "  inflating: data/dogs/dog.23.jpg    \n",
            "  inflating: data/dogs/dog.24.jpg    \n",
            "  inflating: data/dogs/dog.25.jpg    \n",
            "  inflating: data/dogs/dog.26.jpg    \n",
            "  inflating: data/dogs/dog.27.jpg    \n",
            "  inflating: data/dogs/dog.28.jpg    \n",
            "  inflating: data/dogs/dog.29.jpg    \n",
            "  inflating: data/dogs/dog.3.jpg     \n",
            "  inflating: data/dogs/dog.30.jpg    \n",
            "  inflating: data/dogs/dog.31.jpg    \n",
            "  inflating: data/dogs/dog.32.jpg    \n",
            "  inflating: data/dogs/dog.33.jpg    \n",
            "  inflating: data/dogs/dog.34.jpg    \n",
            "  inflating: data/dogs/dog.35.jpg    \n",
            "  inflating: data/dogs/dog.36.jpg    \n",
            "  inflating: data/dogs/dog.37.jpg    \n",
            "  inflating: data/dogs/dog.38.jpg    \n",
            "  inflating: data/dogs/dog.39.jpg    \n",
            "  inflating: data/dogs/dog.4.jpg     \n",
            "  inflating: data/dogs/dog.40.jpg    \n",
            "  inflating: data/dogs/dog.41.jpg    \n",
            "  inflating: data/dogs/dog.42.jpg    \n",
            "  inflating: data/dogs/dog.43.jpg    \n",
            "  inflating: data/dogs/dog.44.jpg    \n",
            "  inflating: data/dogs/dog.45.jpg    \n",
            "  inflating: data/dogs/dog.46.jpg    \n",
            "  inflating: data/dogs/dog.47.jpg    \n",
            "  inflating: data/dogs/dog.48.jpg    \n",
            "  inflating: data/dogs/dog.49.jpg    \n",
            "  inflating: data/dogs/dog.5.jpg     \n",
            "  inflating: data/dogs/dog.50.jpg    \n",
            "  inflating: data/dogs/dog.51.jpg    \n",
            "  inflating: data/dogs/dog.52.jpg    \n",
            "  inflating: data/dogs/dog.53.jpg    \n",
            "  inflating: data/dogs/dog.54.jpg    \n",
            "  inflating: data/dogs/dog.55.jpg    \n",
            "  inflating: data/dogs/dog.56.jpg    \n",
            "  inflating: data/dogs/dog.57.jpg    \n",
            "  inflating: data/dogs/dog.58.jpg    \n",
            "  inflating: data/dogs/dog.59.jpg    \n",
            "  inflating: data/dogs/dog.6.jpg     \n",
            "  inflating: data/dogs/dog.60.jpg    \n",
            "  inflating: data/dogs/dog.61.jpg    \n",
            "  inflating: data/dogs/dog.62.jpg    \n",
            "  inflating: data/dogs/dog.63.jpg    \n",
            "  inflating: data/dogs/dog.64.jpg    \n",
            "  inflating: data/dogs/dog.65.jpg    \n",
            "  inflating: data/dogs/dog.66.jpg    \n",
            "  inflating: data/dogs/dog.67.jpg    \n",
            "  inflating: data/dogs/dog.68.jpg    \n",
            "  inflating: data/dogs/dog.69.jpg    \n",
            "  inflating: data/dogs/dog.7.jpg     \n",
            "  inflating: data/dogs/dog.70.jpg    \n",
            "  inflating: data/dogs/dog.71.jpg    \n",
            "  inflating: data/dogs/dog.72.jpg    \n",
            "  inflating: data/dogs/dog.73.jpg    \n",
            "  inflating: data/dogs/dog.74.jpg    \n",
            "  inflating: data/dogs/dog.75.jpg    \n",
            "  inflating: data/dogs/dog.76.jpg    \n",
            "  inflating: data/dogs/dog.77.jpg    \n",
            "  inflating: data/dogs/dog.78.jpg    \n",
            "  inflating: data/dogs/dog.79.jpg    \n",
            "  inflating: data/dogs/dog.8.jpg     \n",
            "  inflating: data/dogs/dog.80.jpg    \n",
            "  inflating: data/dogs/dog.81.jpg    \n",
            "  inflating: data/dogs/dog.82.jpg    \n",
            "  inflating: data/dogs/dog.83.jpg    \n",
            "  inflating: data/dogs/dog.84.jpg    \n",
            "  inflating: data/dogs/dog.85.jpg    \n",
            "  inflating: data/dogs/dog.86.jpg    \n",
            "  inflating: data/dogs/dog.87.jpg    \n",
            "  inflating: data/dogs/dog.88.jpg    \n",
            "  inflating: data/dogs/dog.89.jpg    \n",
            "  inflating: data/dogs/dog.9.jpg     \n",
            "  inflating: data/dogs/dog.90.jpg    \n",
            "  inflating: data/dogs/dog.91.jpg    \n",
            "  inflating: data/dogs/dog.92.jpg    \n",
            "  inflating: data/dogs/dog.93.jpg    \n",
            "  inflating: data/dogs/dog.94.jpg    \n",
            "  inflating: data/dogs/dog.95.jpg    \n",
            "  inflating: data/dogs/dog.96.jpg    \n",
            "  inflating: data/dogs/dog.97.jpg    \n",
            "  inflating: data/dogs/dog.98.jpg    \n",
            "  inflating: data/dogs/dog.99.jpg    \n",
            "   creating: data/horses/\n",
            "  inflating: data/horses/horse-1.jpg  \n",
            "  inflating: data/horses/horse-10.jpg  \n",
            "  inflating: data/horses/horse-100.jpg  \n",
            "  inflating: data/horses/horse-101.jpg  \n",
            "  inflating: data/horses/horse-102.jpg  \n",
            "  inflating: data/horses/horse-103.jpg  \n",
            "  inflating: data/horses/horse-104.jpg  \n",
            "  inflating: data/horses/horse-105.jpg  \n",
            "  inflating: data/horses/horse-106.jpg  \n",
            "  inflating: data/horses/horse-107.jpg  \n",
            "  inflating: data/horses/horse-108.jpg  \n",
            "  inflating: data/horses/horse-109.jpg  \n",
            "  inflating: data/horses/horse-11.jpg  \n",
            "  inflating: data/horses/horse-110.jpg  \n",
            "  inflating: data/horses/horse-111.jpg  \n",
            "  inflating: data/horses/horse-112.jpg  \n",
            "  inflating: data/horses/horse-113.jpg  \n",
            "  inflating: data/horses/horse-114.jpg  \n",
            "  inflating: data/horses/horse-115.jpg  \n",
            "  inflating: data/horses/horse-116.jpg  \n",
            "  inflating: data/horses/horse-117.jpg  \n",
            "  inflating: data/horses/horse-118.jpg  \n",
            "  inflating: data/horses/horse-119.jpg  \n",
            "  inflating: data/horses/horse-12.jpg  \n",
            "  inflating: data/horses/horse-120.jpg  \n",
            "  inflating: data/horses/horse-121.jpg  \n",
            "  inflating: data/horses/horse-122.jpg  \n",
            "  inflating: data/horses/horse-123.jpg  \n",
            "  inflating: data/horses/horse-124.jpg  \n",
            "  inflating: data/horses/horse-125.jpg  \n",
            "  inflating: data/horses/horse-126.jpg  \n",
            "  inflating: data/horses/horse-127.jpg  \n",
            "  inflating: data/horses/horse-128.jpg  \n",
            "  inflating: data/horses/horse-129.jpg  \n",
            "  inflating: data/horses/horse-13.jpg  \n",
            "  inflating: data/horses/horse-130.jpg  \n",
            "  inflating: data/horses/horse-131.jpg  \n",
            "  inflating: data/horses/horse-132.jpg  \n",
            "  inflating: data/horses/horse-133.jpg  \n",
            "  inflating: data/horses/horse-134.jpg  \n",
            "  inflating: data/horses/horse-135.jpg  \n",
            "  inflating: data/horses/horse-136.jpg  \n",
            "  inflating: data/horses/horse-137.jpg  \n",
            "  inflating: data/horses/horse-138.jpg  \n",
            "  inflating: data/horses/horse-139.jpg  \n",
            "  inflating: data/horses/horse-14.jpg  \n",
            "  inflating: data/horses/horse-140.jpg  \n",
            "  inflating: data/horses/horse-141.jpg  \n",
            "  inflating: data/horses/horse-142.jpg  \n",
            "  inflating: data/horses/horse-143.jpg  \n",
            "  inflating: data/horses/horse-144.jpg  \n",
            "  inflating: data/horses/horse-145.jpg  \n",
            "  inflating: data/horses/horse-146.jpg  \n",
            "  inflating: data/horses/horse-147.jpg  \n",
            "  inflating: data/horses/horse-148.jpg  \n",
            "  inflating: data/horses/horse-149.jpg  \n",
            "  inflating: data/horses/horse-15.jpg  \n",
            "  inflating: data/horses/horse-150.jpg  \n",
            "  inflating: data/horses/horse-151.jpg  \n",
            "  inflating: data/horses/horse-152.jpg  \n",
            "  inflating: data/horses/horse-153.jpg  \n",
            "  inflating: data/horses/horse-154.jpg  \n",
            "  inflating: data/horses/horse-155.jpg  \n",
            "  inflating: data/horses/horse-156.jpg  \n",
            "  inflating: data/horses/horse-157.jpg  \n",
            "  inflating: data/horses/horse-158.jpg  \n",
            "  inflating: data/horses/horse-159.jpg  \n",
            "  inflating: data/horses/horse-16.jpg  \n",
            "  inflating: data/horses/horse-160.jpg  \n",
            "  inflating: data/horses/horse-161.jpg  \n",
            "  inflating: data/horses/horse-162.jpg  \n",
            "  inflating: data/horses/horse-163.jpg  \n",
            "  inflating: data/horses/horse-164.jpg  \n",
            "  inflating: data/horses/horse-165.jpg  \n",
            "  inflating: data/horses/horse-166.jpg  \n",
            "  inflating: data/horses/horse-167.jpg  \n",
            "  inflating: data/horses/horse-168.jpg  \n",
            "  inflating: data/horses/horse-169.jpg  \n",
            " extracting: data/horses/horse-17.jpg  \n",
            "  inflating: data/horses/horse-170.jpg  \n",
            "  inflating: data/horses/horse-171.jpg  \n",
            "  inflating: data/horses/horse-172.jpg  \n",
            "  inflating: data/horses/horse-173.jpg  \n",
            "  inflating: data/horses/horse-174.jpg  \n",
            "  inflating: data/horses/horse-175.jpg  \n",
            "  inflating: data/horses/horse-176.jpg  \n",
            "  inflating: data/horses/horse-177.jpg  \n",
            "  inflating: data/horses/horse-178.jpg  \n",
            "  inflating: data/horses/horse-179.jpg  \n",
            "  inflating: data/horses/horse-18.jpg  \n",
            "  inflating: data/horses/horse-180.jpg  \n",
            "  inflating: data/horses/horse-181.jpg  \n",
            "  inflating: data/horses/horse-182.jpg  \n",
            "  inflating: data/horses/horse-183.jpg  \n",
            "  inflating: data/horses/horse-184.jpg  \n",
            "  inflating: data/horses/horse-185.jpg  \n",
            "  inflating: data/horses/horse-186.jpg  \n",
            "  inflating: data/horses/horse-187.jpg  \n",
            "  inflating: data/horses/horse-188.jpg  \n",
            "  inflating: data/horses/horse-189.jpg  \n",
            "  inflating: data/horses/horse-19.jpg  \n",
            "  inflating: data/horses/horse-190.jpg  \n",
            "  inflating: data/horses/horse-191.jpg  \n",
            "  inflating: data/horses/horse-192.jpg  \n",
            "  inflating: data/horses/horse-193.jpg  \n",
            "  inflating: data/horses/horse-194.jpg  \n",
            "  inflating: data/horses/horse-195.jpg  \n",
            "  inflating: data/horses/horse-196.jpg  \n",
            "  inflating: data/horses/horse-197.jpg  \n",
            "  inflating: data/horses/horse-198.jpg  \n",
            "  inflating: data/horses/horse-199.jpg  \n",
            "  inflating: data/horses/horse-2.jpg  \n",
            "  inflating: data/horses/horse-20.jpg  \n",
            "  inflating: data/horses/horse-200.jpg  \n",
            "  inflating: data/horses/horse-201.jpg  \n",
            "  inflating: data/horses/horse-202.jpg  \n",
            "  inflating: data/horses/horse-21.jpg  \n",
            "  inflating: data/horses/horse-22.jpg  \n",
            "  inflating: data/horses/horse-23.jpg  \n",
            "  inflating: data/horses/horse-24.jpg  \n",
            "  inflating: data/horses/horse-25.jpg  \n",
            "  inflating: data/horses/horse-26.jpg  \n",
            "  inflating: data/horses/horse-27.jpg  \n",
            "  inflating: data/horses/horse-28.jpg  \n",
            "  inflating: data/horses/horse-29.jpg  \n",
            "  inflating: data/horses/horse-3.jpg  \n",
            "  inflating: data/horses/horse-30.jpg  \n",
            "  inflating: data/horses/horse-31.jpg  \n",
            "  inflating: data/horses/horse-32.jpg  \n",
            "  inflating: data/horses/horse-33.jpg  \n",
            "  inflating: data/horses/horse-34.jpg  \n",
            "  inflating: data/horses/horse-35.jpg  \n",
            "  inflating: data/horses/horse-36.jpg  \n",
            "  inflating: data/horses/horse-37.jpg  \n",
            "  inflating: data/horses/horse-38.jpg  \n",
            "  inflating: data/horses/horse-39.jpg  \n",
            "  inflating: data/horses/horse-4.jpg  \n",
            "  inflating: data/horses/horse-40.jpg  \n",
            "  inflating: data/horses/horse-41.jpg  \n",
            "  inflating: data/horses/horse-42.jpg  \n",
            "  inflating: data/horses/horse-43.jpg  \n",
            "  inflating: data/horses/horse-44.jpg  \n",
            "  inflating: data/horses/horse-45.jpg  \n",
            "  inflating: data/horses/horse-46.jpg  \n",
            "  inflating: data/horses/horse-47.jpg  \n",
            "  inflating: data/horses/horse-48.jpg  \n",
            "  inflating: data/horses/horse-49.jpg  \n",
            "  inflating: data/horses/horse-5.jpg  \n",
            "  inflating: data/horses/horse-50.jpg  \n",
            "  inflating: data/horses/horse-51.jpg  \n",
            "  inflating: data/horses/horse-52.jpg  \n",
            "  inflating: data/horses/horse-53.jpg  \n",
            "  inflating: data/horses/horse-54.jpg  \n",
            "  inflating: data/horses/horse-55.jpg  \n",
            "  inflating: data/horses/horse-56.jpg  \n",
            "  inflating: data/horses/horse-57.jpg  \n",
            "  inflating: data/horses/horse-58.jpg  \n",
            "  inflating: data/horses/horse-59.jpg  \n",
            "  inflating: data/horses/horse-6.jpg  \n",
            "  inflating: data/horses/horse-60.jpg  \n",
            "  inflating: data/horses/horse-61.jpg  \n",
            "  inflating: data/horses/horse-62.jpg  \n",
            "  inflating: data/horses/horse-63.jpg  \n",
            "  inflating: data/horses/horse-64.jpg  \n",
            "  inflating: data/horses/horse-65.jpg  \n",
            "  inflating: data/horses/horse-66.jpg  \n",
            "  inflating: data/horses/horse-67.jpg  \n",
            "  inflating: data/horses/horse-68.jpg  \n",
            "  inflating: data/horses/horse-69.jpg  \n",
            "  inflating: data/horses/horse-7.jpg  \n",
            "  inflating: data/horses/horse-70.jpg  \n",
            "  inflating: data/horses/horse-71.jpg  \n",
            "  inflating: data/horses/horse-72.jpg  \n",
            "  inflating: data/horses/horse-73.jpg  \n",
            "  inflating: data/horses/horse-74.jpg  \n",
            "  inflating: data/horses/horse-75.jpg  \n",
            "  inflating: data/horses/horse-76.jpg  \n",
            "  inflating: data/horses/horse-77.jpg  \n",
            "  inflating: data/horses/horse-78.jpg  \n",
            "  inflating: data/horses/horse-79.jpg  \n",
            "  inflating: data/horses/horse-8.jpg  \n",
            "  inflating: data/horses/horse-80.jpg  \n",
            "  inflating: data/horses/horse-81.jpg  \n",
            "  inflating: data/horses/horse-82.jpg  \n",
            "  inflating: data/horses/horse-83.jpg  \n",
            "  inflating: data/horses/horse-84.jpg  \n",
            "  inflating: data/horses/horse-85.jpg  \n",
            "  inflating: data/horses/horse-86.jpg  \n",
            "  inflating: data/horses/horse-87.jpg  \n",
            "  inflating: data/horses/horse-88.jpg  \n",
            "  inflating: data/horses/horse-89.jpg  \n",
            "  inflating: data/horses/horse-9.jpg  \n",
            "  inflating: data/horses/horse-90.jpg  \n",
            "  inflating: data/horses/horse-91.jpg  \n",
            "  inflating: data/horses/horse-92.jpg  \n",
            "  inflating: data/horses/horse-93.jpg  \n",
            "  inflating: data/horses/horse-94.jpg  \n",
            "  inflating: data/horses/horse-95.jpg  \n",
            "  inflating: data/horses/horse-96.jpg  \n",
            "  inflating: data/horses/horse-97.jpg  \n",
            "  inflating: data/horses/horse-98.jpg  \n",
            "  inflating: data/horses/horse-99.jpg  \n",
            "   creating: data/humans/\n",
            "  inflating: data/humans/rider-1.jpg  \n",
            "  inflating: data/humans/rider-10.jpg  \n",
            "  inflating: data/humans/rider-100.jpg  \n",
            "  inflating: data/humans/rider-101.jpg  \n",
            "  inflating: data/humans/rider-102.jpg  \n",
            "  inflating: data/humans/rider-103.jpg  \n",
            "  inflating: data/humans/rider-104.jpg  \n",
            "  inflating: data/humans/rider-105.jpg  \n",
            "  inflating: data/humans/rider-106.jpg  \n",
            "  inflating: data/humans/rider-107.jpg  \n",
            "  inflating: data/humans/rider-108.jpg  \n",
            "  inflating: data/humans/rider-109.jpg  \n",
            "  inflating: data/humans/rider-11.jpg  \n",
            "  inflating: data/humans/rider-110.jpg  \n",
            "  inflating: data/humans/rider-111.jpg  \n",
            "  inflating: data/humans/rider-112.jpg  \n",
            "  inflating: data/humans/rider-113.jpg  \n",
            "  inflating: data/humans/rider-114.jpg  \n",
            "  inflating: data/humans/rider-115.jpg  \n",
            "  inflating: data/humans/rider-116.jpg  \n",
            "  inflating: data/humans/rider-117.jpg  \n",
            "  inflating: data/humans/rider-118.jpg  \n",
            "  inflating: data/humans/rider-119.jpg  \n",
            "  inflating: data/humans/rider-12.jpg  \n",
            "  inflating: data/humans/rider-120.jpg  \n",
            "  inflating: data/humans/rider-121.jpg  \n",
            "  inflating: data/humans/rider-122.jpg  \n",
            "  inflating: data/humans/rider-123.jpg  \n",
            "  inflating: data/humans/rider-124.jpg  \n",
            "  inflating: data/humans/rider-125.jpg  \n",
            "  inflating: data/humans/rider-126.jpg  \n",
            "  inflating: data/humans/rider-127.jpg  \n",
            "  inflating: data/humans/rider-128.jpg  \n",
            "  inflating: data/humans/rider-129.jpg  \n",
            "  inflating: data/humans/rider-13.jpg  \n",
            "  inflating: data/humans/rider-130.jpg  \n",
            "  inflating: data/humans/rider-131.jpg  \n",
            "  inflating: data/humans/rider-132.jpg  \n",
            "  inflating: data/humans/rider-133.jpg  \n",
            "  inflating: data/humans/rider-134.jpg  \n",
            "  inflating: data/humans/rider-135.jpg  \n",
            "  inflating: data/humans/rider-136.jpg  \n",
            "  inflating: data/humans/rider-137.jpg  \n",
            "  inflating: data/humans/rider-138.jpg  \n",
            "  inflating: data/humans/rider-139.jpg  \n",
            "  inflating: data/humans/rider-14.jpg  \n",
            "  inflating: data/humans/rider-140.jpg  \n",
            "  inflating: data/humans/rider-141.jpg  \n",
            "  inflating: data/humans/rider-142.jpg  \n",
            "  inflating: data/humans/rider-143.jpg  \n",
            "  inflating: data/humans/rider-144.jpg  \n",
            "  inflating: data/humans/rider-145.jpg  \n",
            "  inflating: data/humans/rider-146.jpg  \n",
            "  inflating: data/humans/rider-147.jpg  \n",
            "  inflating: data/humans/rider-148.jpg  \n",
            "  inflating: data/humans/rider-149.jpg  \n",
            "  inflating: data/humans/rider-15.jpg  \n",
            "  inflating: data/humans/rider-150.jpg  \n",
            "  inflating: data/humans/rider-151.jpg  \n",
            "  inflating: data/humans/rider-152.jpg  \n",
            "  inflating: data/humans/rider-153.jpg  \n",
            "  inflating: data/humans/rider-154.jpg  \n",
            "  inflating: data/humans/rider-155.jpg  \n",
            "  inflating: data/humans/rider-156.jpg  \n",
            "  inflating: data/humans/rider-157.jpg  \n",
            "  inflating: data/humans/rider-158.jpg  \n",
            "  inflating: data/humans/rider-159.jpg  \n",
            "  inflating: data/humans/rider-16.jpg  \n",
            "  inflating: data/humans/rider-160.jpg  \n",
            "  inflating: data/humans/rider-161.jpg  \n",
            "  inflating: data/humans/rider-162.jpg  \n",
            "  inflating: data/humans/rider-163.jpg  \n",
            "  inflating: data/humans/rider-164.jpg  \n",
            "  inflating: data/humans/rider-165.jpg  \n",
            "  inflating: data/humans/rider-166.jpg  \n",
            "  inflating: data/humans/rider-167.jpg  \n",
            "  inflating: data/humans/rider-168.jpg  \n",
            "  inflating: data/humans/rider-169.jpg  \n",
            "  inflating: data/humans/rider-17.jpg  \n",
            "  inflating: data/humans/rider-170.jpg  \n",
            "  inflating: data/humans/rider-171.jpg  \n",
            "  inflating: data/humans/rider-172.jpg  \n",
            "  inflating: data/humans/rider-173.jpg  \n",
            "  inflating: data/humans/rider-174.jpg  \n",
            "  inflating: data/humans/rider-175.jpg  \n",
            "  inflating: data/humans/rider-176.jpg  \n",
            "  inflating: data/humans/rider-177.jpg  \n",
            "  inflating: data/humans/rider-178.jpg  \n",
            "  inflating: data/humans/rider-179.jpg  \n",
            "  inflating: data/humans/rider-18.jpg  \n",
            "  inflating: data/humans/rider-180.jpg  \n",
            "  inflating: data/humans/rider-181.jpg  \n",
            "  inflating: data/humans/rider-182.jpg  \n",
            "  inflating: data/humans/rider-183.jpg  \n",
            "  inflating: data/humans/rider-184.jpg  \n",
            "  inflating: data/humans/rider-185.jpg  \n",
            "  inflating: data/humans/rider-186.jpg  \n",
            "  inflating: data/humans/rider-187.jpg  \n",
            "  inflating: data/humans/rider-188.jpg  \n",
            "  inflating: data/humans/rider-189.jpg  \n",
            "  inflating: data/humans/rider-19.jpg  \n",
            "  inflating: data/humans/rider-190.jpg  \n",
            "  inflating: data/humans/rider-191.jpg  \n",
            "  inflating: data/humans/rider-192.jpg  \n",
            "  inflating: data/humans/rider-193.jpg  \n",
            "  inflating: data/humans/rider-194.jpg  \n",
            "  inflating: data/humans/rider-195.jpg  \n",
            "  inflating: data/humans/rider-196.jpg  \n",
            "  inflating: data/humans/rider-197.jpg  \n",
            "  inflating: data/humans/rider-198.jpg  \n",
            "  inflating: data/humans/rider-199.jpg  \n",
            "  inflating: data/humans/rider-2.jpg  \n",
            "  inflating: data/humans/rider-20.jpg  \n",
            "  inflating: data/humans/rider-200.jpg  \n",
            "  inflating: data/humans/rider-201.jpg  \n",
            "  inflating: data/humans/rider-202.jpg  \n",
            "  inflating: data/humans/rider-21.jpg  \n",
            "  inflating: data/humans/rider-22.jpg  \n",
            "  inflating: data/humans/rider-23.jpg  \n",
            "  inflating: data/humans/rider-24.jpg  \n",
            "  inflating: data/humans/rider-25.jpg  \n",
            "  inflating: data/humans/rider-26.jpg  \n",
            "  inflating: data/humans/rider-27.jpg  \n",
            "  inflating: data/humans/rider-28.jpg  \n",
            "  inflating: data/humans/rider-29.jpg  \n",
            "  inflating: data/humans/rider-3.jpg  \n",
            "  inflating: data/humans/rider-30.jpg  \n",
            "  inflating: data/humans/rider-31.jpg  \n",
            "  inflating: data/humans/rider-32.jpg  \n",
            "  inflating: data/humans/rider-33.jpg  \n",
            "  inflating: data/humans/rider-34.jpg  \n",
            "  inflating: data/humans/rider-35.jpg  \n",
            "  inflating: data/humans/rider-36.jpg  \n",
            "  inflating: data/humans/rider-37.jpg  \n",
            "  inflating: data/humans/rider-38.jpg  \n",
            "  inflating: data/humans/rider-39.jpg  \n",
            "  inflating: data/humans/rider-4.jpg  \n",
            "  inflating: data/humans/rider-40.jpg  \n",
            "  inflating: data/humans/rider-41.jpg  \n",
            "  inflating: data/humans/rider-42.jpg  \n",
            "  inflating: data/humans/rider-43.jpg  \n",
            "  inflating: data/humans/rider-44.jpg  \n",
            "  inflating: data/humans/rider-45.jpg  \n",
            "  inflating: data/humans/rider-46.jpg  \n",
            "  inflating: data/humans/rider-47.jpg  \n",
            "  inflating: data/humans/rider-48.jpg  \n",
            "  inflating: data/humans/rider-49.jpg  \n",
            "  inflating: data/humans/rider-5.jpg  \n",
            "  inflating: data/humans/rider-50.jpg  \n",
            "  inflating: data/humans/rider-51.jpg  \n",
            "  inflating: data/humans/rider-52.jpg  \n",
            "  inflating: data/humans/rider-53.jpg  \n",
            "  inflating: data/humans/rider-54.jpg  \n",
            "  inflating: data/humans/rider-55.jpg  \n",
            "  inflating: data/humans/rider-56.jpg  \n",
            "  inflating: data/humans/rider-57.jpg  \n",
            "  inflating: data/humans/rider-58.jpg  \n",
            "  inflating: data/humans/rider-59.jpg  \n",
            "  inflating: data/humans/rider-6.jpg  \n",
            "  inflating: data/humans/rider-60.jpg  \n",
            "  inflating: data/humans/rider-61.jpg  \n",
            "  inflating: data/humans/rider-62.jpg  \n",
            "  inflating: data/humans/rider-63.jpg  \n",
            "  inflating: data/humans/rider-64.jpg  \n",
            "  inflating: data/humans/rider-65.jpg  \n",
            "  inflating: data/humans/rider-66.jpg  \n",
            "  inflating: data/humans/rider-67.jpg  \n",
            "  inflating: data/humans/rider-68.jpg  \n",
            "  inflating: data/humans/rider-69.jpg  \n",
            "  inflating: data/humans/rider-7.jpg  \n",
            "  inflating: data/humans/rider-70.jpg  \n",
            "  inflating: data/humans/rider-71.jpg  \n",
            "  inflating: data/humans/rider-72.jpg  \n",
            "  inflating: data/humans/rider-73.jpg  \n",
            "  inflating: data/humans/rider-74.jpg  \n",
            "  inflating: data/humans/rider-75.jpg  \n",
            "  inflating: data/humans/rider-76.jpg  \n",
            "  inflating: data/humans/rider-77.jpg  \n",
            "  inflating: data/humans/rider-78.jpg  \n",
            "  inflating: data/humans/rider-79.jpg  \n",
            "  inflating: data/humans/rider-8.jpg  \n",
            "  inflating: data/humans/rider-80.jpg  \n",
            "  inflating: data/humans/rider-81.jpg  \n",
            "  inflating: data/humans/rider-82.jpg  \n",
            "  inflating: data/humans/rider-83.jpg  \n",
            "  inflating: data/humans/rider-84.jpg  \n",
            "  inflating: data/humans/rider-85.jpg  \n",
            "  inflating: data/humans/rider-86.jpg  \n",
            "  inflating: data/humans/rider-87.jpg  \n",
            "  inflating: data/humans/rider-88.jpg  \n",
            "  inflating: data/humans/rider-89.jpg  \n",
            "  inflating: data/humans/rider-9.jpg  \n",
            "  inflating: data/humans/rider-90.jpg  \n",
            "  inflating: data/humans/rider-91.jpg  \n",
            "  inflating: data/humans/rider-92.jpg  \n",
            "  inflating: data/humans/rider-93.jpg  \n",
            "  inflating: data/humans/rider-94.jpg  \n",
            "  inflating: data/humans/rider-95.jpg  \n",
            "  inflating: data/humans/rider-96.jpg  \n",
            "  inflating: data/humans/rider-97.jpg  \n",
            "  inflating: data/humans/rider-98.jpg  \n",
            "  inflating: data/humans/rider-99.jpg  \n"
          ],
          "name": "stdout"
        }
      ]
    },
    {
      "cell_type": "code",
      "metadata": {
        "id": "LIh9ammN-Yf9",
        "colab": {
          "base_uri": "https://localhost:8080/"
        },
        "outputId": "355449f2-d830-403a-92b2-659a669eeb8a"
      },
      "source": [
        "!ls"
      ],
      "execution_count": 9,
      "outputs": [
        {
          "output_type": "stream",
          "text": [
            "_config.yml\t    data      README.md\n",
            "custom_data_cnn.py  data.zip  updated_custom_data_cnn.py\n"
          ],
          "name": "stdout"
        }
      ]
    },
    {
      "cell_type": "code",
      "metadata": {
        "id": "K0FlN5GU-c2_",
        "colab": {
          "base_uri": "https://localhost:8080/"
        },
        "outputId": "e9e83488-6a09-4fdb-9b3a-f46d365701af"
      },
      "source": [
        "cd data"
      ],
      "execution_count": 10,
      "outputs": [
        {
          "output_type": "stream",
          "text": [
            "/content/own_data_cnn_implementation_keras/data\n"
          ],
          "name": "stdout"
        }
      ]
    },
    {
      "cell_type": "code",
      "metadata": {
        "id": "wTq8zkiq-fn-",
        "colab": {
          "base_uri": "https://localhost:8080/"
        },
        "outputId": "225b7e4f-b7ee-499f-822e-01301595600a"
      },
      "source": [
        "!ls"
      ],
      "execution_count": 11,
      "outputs": [
        {
          "output_type": "stream",
          "text": [
            "cats  dogs  horses  humans\n"
          ],
          "name": "stdout"
        }
      ]
    },
    {
      "cell_type": "code",
      "metadata": {
        "id": "0rD6Czsl-mKv",
        "colab": {
          "base_uri": "https://localhost:8080/"
        },
        "outputId": "a9a1eca1-c60b-4eb3-9896-f2a748f81889"
      },
      "source": [
        "cd .."
      ],
      "execution_count": 12,
      "outputs": [
        {
          "output_type": "stream",
          "text": [
            "/content/own_data_cnn_implementation_keras\n"
          ],
          "name": "stdout"
        }
      ]
    },
    {
      "cell_type": "code",
      "metadata": {
        "id": "1SMfxY43-oMt"
      },
      "source": [
        "!rm -rf data.zip"
      ],
      "execution_count": 13,
      "outputs": []
    },
    {
      "cell_type": "code",
      "metadata": {
        "id": "vMfucind-tXG",
        "colab": {
          "base_uri": "https://localhost:8080/"
        },
        "outputId": "e737b607-0588-4557-afbe-feebcf3ffb02"
      },
      "source": [
        "!ls"
      ],
      "execution_count": 14,
      "outputs": [
        {
          "output_type": "stream",
          "text": [
            "_config.yml  custom_data_cnn.py  data  README.md  updated_custom_data_cnn.py\n"
          ],
          "name": "stdout"
        }
      ]
    },
    {
      "cell_type": "code",
      "metadata": {
        "id": "qf9GLCpf-8Ge",
        "colab": {
          "base_uri": "https://localhost:8080/"
        },
        "outputId": "f0871a65-9c10-4f3a-e26b-6f73191dbf30"
      },
      "source": [
        "from tensorflow.python.client import device_lib\n",
        "device_lib.list_local_devices()"
      ],
      "execution_count": 15,
      "outputs": [
        {
          "output_type": "execute_result",
          "data": {
            "text/plain": [
              "[name: \"/device:CPU:0\"\n",
              " device_type: \"CPU\"\n",
              " memory_limit: 268435456\n",
              " locality {\n",
              " }\n",
              " incarnation: 16158652050776134175, name: \"/device:XLA_CPU:0\"\n",
              " device_type: \"XLA_CPU\"\n",
              " memory_limit: 17179869184\n",
              " locality {\n",
              " }\n",
              " incarnation: 9952363417729343174\n",
              " physical_device_desc: \"device: XLA_CPU device\"]"
            ]
          },
          "metadata": {
            "tags": []
          },
          "execution_count": 15
        }
      ]
    },
    {
      "cell_type": "code",
      "metadata": {
        "id": "Ge2FTJAA_3Z7",
        "colab": {
          "base_uri": "https://localhost:8080/"
        },
        "outputId": "67d5eb69-de02-405b-c528-455860328fd5"
      },
      "source": [
        "!cat /proc/cpuinfo"
      ],
      "execution_count": 16,
      "outputs": [
        {
          "output_type": "stream",
          "text": [
            "processor\t: 0\n",
            "vendor_id\t: GenuineIntel\n",
            "cpu family\t: 6\n",
            "model\t\t: 79\n",
            "model name\t: Intel(R) Xeon(R) CPU @ 2.20GHz\n",
            "stepping\t: 0\n",
            "microcode\t: 0x1\n",
            "cpu MHz\t\t: 2200.000\n",
            "cache size\t: 56320 KB\n",
            "physical id\t: 0\n",
            "siblings\t: 2\n",
            "core id\t\t: 0\n",
            "cpu cores\t: 1\n",
            "apicid\t\t: 0\n",
            "initial apicid\t: 0\n",
            "fpu\t\t: yes\n",
            "fpu_exception\t: yes\n",
            "cpuid level\t: 13\n",
            "wp\t\t: yes\n",
            "flags\t\t: fpu vme de pse tsc msr pae mce cx8 apic sep mtrr pge mca cmov pat pse36 clflush mmx fxsr sse sse2 ss ht syscall nx pdpe1gb rdtscp lm constant_tsc rep_good nopl xtopology nonstop_tsc cpuid tsc_known_freq pni pclmulqdq ssse3 fma cx16 pcid sse4_1 sse4_2 x2apic movbe popcnt aes xsave avx f16c rdrand hypervisor lahf_lm abm 3dnowprefetch invpcid_single ssbd ibrs ibpb stibp fsgsbase tsc_adjust bmi1 hle avx2 smep bmi2 erms invpcid rtm rdseed adx smap xsaveopt arat md_clear arch_capabilities\n",
            "bugs\t\t: cpu_meltdown spectre_v1 spectre_v2 spec_store_bypass l1tf mds swapgs taa\n",
            "bogomips\t: 4400.00\n",
            "clflush size\t: 64\n",
            "cache_alignment\t: 64\n",
            "address sizes\t: 46 bits physical, 48 bits virtual\n",
            "power management:\n",
            "\n",
            "processor\t: 1\n",
            "vendor_id\t: GenuineIntel\n",
            "cpu family\t: 6\n",
            "model\t\t: 79\n",
            "model name\t: Intel(R) Xeon(R) CPU @ 2.20GHz\n",
            "stepping\t: 0\n",
            "microcode\t: 0x1\n",
            "cpu MHz\t\t: 2200.000\n",
            "cache size\t: 56320 KB\n",
            "physical id\t: 0\n",
            "siblings\t: 2\n",
            "core id\t\t: 0\n",
            "cpu cores\t: 1\n",
            "apicid\t\t: 1\n",
            "initial apicid\t: 1\n",
            "fpu\t\t: yes\n",
            "fpu_exception\t: yes\n",
            "cpuid level\t: 13\n",
            "wp\t\t: yes\n",
            "flags\t\t: fpu vme de pse tsc msr pae mce cx8 apic sep mtrr pge mca cmov pat pse36 clflush mmx fxsr sse sse2 ss ht syscall nx pdpe1gb rdtscp lm constant_tsc rep_good nopl xtopology nonstop_tsc cpuid tsc_known_freq pni pclmulqdq ssse3 fma cx16 pcid sse4_1 sse4_2 x2apic movbe popcnt aes xsave avx f16c rdrand hypervisor lahf_lm abm 3dnowprefetch invpcid_single ssbd ibrs ibpb stibp fsgsbase tsc_adjust bmi1 hle avx2 smep bmi2 erms invpcid rtm rdseed adx smap xsaveopt arat md_clear arch_capabilities\n",
            "bugs\t\t: cpu_meltdown spectre_v1 spectre_v2 spec_store_bypass l1tf mds swapgs taa\n",
            "bogomips\t: 4400.00\n",
            "clflush size\t: 64\n",
            "cache_alignment\t: 64\n",
            "address sizes\t: 46 bits physical, 48 bits virtual\n",
            "power management:\n",
            "\n"
          ],
          "name": "stdout"
        }
      ]
    },
    {
      "cell_type": "code",
      "metadata": {
        "id": "VmesGrMe_-Jc",
        "colab": {
          "base_uri": "https://localhost:8080/"
        },
        "outputId": "0788769b-6fe6-4d3b-8107-5db91952cb35"
      },
      "source": [
        "!cat /proc/meminfo"
      ],
      "execution_count": 17,
      "outputs": [
        {
          "output_type": "stream",
          "text": [
            "MemTotal:       13333580 kB\n",
            "MemFree:        10553136 kB\n",
            "MemAvailable:   12404972 kB\n",
            "Buffers:           79720 kB\n",
            "Cached:          1906232 kB\n",
            "SwapCached:            0 kB\n",
            "Active:           756280 kB\n",
            "Inactive:        1753964 kB\n",
            "Active(anon):     480048 kB\n",
            "Inactive(anon):      336 kB\n",
            "Active(file):     276232 kB\n",
            "Inactive(file):  1753628 kB\n",
            "Unevictable:           0 kB\n",
            "Mlocked:               0 kB\n",
            "SwapTotal:             0 kB\n",
            "SwapFree:              0 kB\n",
            "Dirty:             62560 kB\n",
            "Writeback:             0 kB\n",
            "AnonPages:        524272 kB\n",
            "Mapped:           362928 kB\n",
            "Shmem:               940 kB\n",
            "Slab:             164992 kB\n",
            "SReclaimable:     125760 kB\n",
            "SUnreclaim:        39232 kB\n",
            "KernelStack:        4368 kB\n",
            "PageTables:         6880 kB\n",
            "NFS_Unstable:          0 kB\n",
            "Bounce:                0 kB\n",
            "WritebackTmp:          0 kB\n",
            "CommitLimit:     6666788 kB\n",
            "Committed_AS:    3140248 kB\n",
            "VmallocTotal:   34359738367 kB\n",
            "VmallocUsed:           0 kB\n",
            "VmallocChunk:          0 kB\n",
            "Percpu:              952 kB\n",
            "AnonHugePages:         0 kB\n",
            "ShmemHugePages:        0 kB\n",
            "ShmemPmdMapped:        0 kB\n",
            "HugePages_Total:       0\n",
            "HugePages_Free:        0\n",
            "HugePages_Rsvd:        0\n",
            "HugePages_Surp:        0\n",
            "Hugepagesize:       2048 kB\n",
            "Hugetlb:               0 kB\n",
            "DirectMap4k:       85224 kB\n",
            "DirectMap2M:     5156864 kB\n",
            "DirectMap1G:    10485760 kB\n"
          ],
          "name": "stdout"
        }
      ]
    },
    {
      "cell_type": "code",
      "metadata": {
        "id": "dMXbMO2QAJp1"
      },
      "source": [
        "import tensorflow as tf\n",
        "tf.nn.sigmoid_cross_entropy_with_logits?\n",
        "#tf.nn.sigmoid_cross_entropy_with_logits()"
      ],
      "execution_count": 18,
      "outputs": []
    },
    {
      "cell_type": "code",
      "metadata": {
        "id": "gcmdJD9CvhuT",
        "colab": {
          "base_uri": "https://localhost:8080/"
        },
        "outputId": "d022106c-47d5-446d-bc13-05a235e1a3f9"
      },
      "source": [
        "import time\n",
        "print(time.ctime())"
      ],
      "execution_count": 19,
      "outputs": [
        {
          "output_type": "stream",
          "text": [
            "Thu Nov 26 04:24:41 2020\n"
          ],
          "name": "stdout"
        }
      ]
    },
    {
      "cell_type": "code",
      "metadata": {
        "id": "b15K8GtCPXV6",
        "colab": {
          "base_uri": "https://localhost:8080/"
        },
        "outputId": "205c86c5-5e5b-4af4-ad29-91998e568d99"
      },
      "source": [
        "time.sleep(5)\n",
        "print (time.ctime())"
      ],
      "execution_count": 20,
      "outputs": [
        {
          "output_type": "stream",
          "text": [
            "Thu Nov 26 04:24:46 2020\n"
          ],
          "name": "stdout"
        }
      ]
    },
    {
      "cell_type": "markdown",
      "metadata": {
        "id": "Q8Jpu885Pes5"
      },
      "source": [
        "This is **bold**.\n",
        "This is *italic*.\n",
        "This is ~strikethrough~."
      ]
    },
    {
      "cell_type": "markdown",
      "metadata": {
        "id": "bhtiiO66Phs5"
      },
      "source": [
        "$\\sqrt{3x-1}+(1+x)^2$"
      ]
    },
    {
      "cell_type": "markdown",
      "metadata": {
        "id": "2B83C03FPjHR"
      },
      "source": [
        "$e^x=\\sum_{i=0}^\\infty \\frac{1}{i!}x^i$"
      ]
    },
    {
      "cell_type": "markdown",
      "metadata": {
        "id": "D0kqRf4CPlSx"
      },
      "source": [
        "Constraints are\n",
        "- $3x_1 + 6x_2 + x_3 =< 28$\n",
        "- $7x_1 + 3x_2 + 2x_3 =< 37$\n",
        "- $4x_1 + 5x_2 + 2x_3 =< 19$\n",
        "- $x_1,x_2,x_3 >=0 $\n",
        "\n",
        "The trial vector is calculated as follows:\n",
        "- $u_i(t) = x_i(t) + \\beta(\\hat{x}(t) − x_i(t)) + \\beta \\sum_{k = 1}^{n\n",
        "_v}(x_{i1,k}(t) − x_{i2,k}(t))$\n",
        "\n",
        "$f(x_1, x_2) = 20 + e - 20exp(-0.2 \\sqrt {\\frac {1}{n} (x_1^2 + x_2^2)}) - exp\n",
        "(\\frac {1}{n}(cos(2\\pi x_1) + cos(2\\pi x_2))$\n",
        "$x ∈ [-5, 5]$\n",
        ">$A_{m,n} =\n",
        "\\begin{pmatrix}\n",
        "a_{1,1} & a_{1,2} & \\cdots & a_{1,n} \\\\\n",
        "a_{2,1} & a_{2,2} & \\cdots & a_{2,n} \\\\\n",
        "\\vdots & \\vdots & \\ddots & \\vdots \\\\\n",
        "a_{m,1} & a_{m,2} & \\cdots & a_{m,n}\n",
        "\\end{pmatrix}$"
      ]
    },
    {
      "cell_type": "markdown",
      "metadata": {
        "id": "SG-GNBusROjQ"
      },
      "source": [
        "**Saving to Google Drive**\n",
        "\n",
        "\n",
        "![picture](https://www.tutorialspoint.com/google_colab/images/saving_google_drive.jpg)"
      ]
    },
    {
      "cell_type": "markdown",
      "metadata": {
        "id": "4FlHtCfMRaRQ"
      },
      "source": [
        "**Saving to GitHub**\n",
        "\n",
        "![picture](https://www.tutorialspoint.com/google_colab/images/login_screen_github.jpg)\n",
        "\n",
        "![picture](https://www.tutorialspoint.com/google_colab/images/copy_to_github.jpg)"
      ]
    },
    {
      "cell_type": "markdown",
      "metadata": {
        "id": "pLibrz7zR5T_"
      },
      "source": [
        "**Google Colab – Sharing Notebook**\n",
        "\n",
        "![picture](https://www.tutorialspoint.com/google_colab/images/sharing_notebook.jpg)"
      ]
    },
    {
      "cell_type": "markdown",
      "metadata": {
        "id": "gna-GOgaSTaI"
      },
      "source": [
        "**Simple Commands**"
      ]
    },
    {
      "cell_type": "code",
      "metadata": {
        "id": "0z-QvmXUServ",
        "colab": {
          "base_uri": "https://localhost:8080/"
        },
        "outputId": "a62f2d6b-9d9b-4f34-84e5-9c654fb34049"
      },
      "source": [
        "message = 'welcome to the tutorial on Colab by GITAM University!'\n",
        "greeting = !echo -e '$message\\n$message'\n",
        "greeting"
      ],
      "execution_count": 21,
      "outputs": [
        {
          "output_type": "execute_result",
          "data": {
            "text/plain": [
              "['welcome to the tutorial on Colab by GITAM University!',\n",
              " 'welcome to the tutorial on Colab by GITAM University!']"
            ]
          },
          "metadata": {
            "tags": []
          },
          "execution_count": 21
        }
      ]
    },
    {
      "cell_type": "markdown",
      "metadata": {
        "id": "ihjgRRakSxE-"
      },
      "source": [
        "**Getting remote data**"
      ]
    },
    {
      "cell_type": "code",
      "metadata": {
        "id": "_oGXApqKSmy-",
        "colab": {
          "base_uri": "https://localhost:8080/"
        },
        "outputId": "e7b9ffcd-5445-471f-e4bf-ceea890ef45f"
      },
      "source": [
        "!wget http://archive.ics.uci.edu/ml/machine-learning-databases/adult/adult.data"
      ],
      "execution_count": 22,
      "outputs": [
        {
          "output_type": "stream",
          "text": [
            "--2020-11-26 04:24:46--  http://archive.ics.uci.edu/ml/machine-learning-databases/adult/adult.data\n",
            "Resolving archive.ics.uci.edu (archive.ics.uci.edu)... 128.195.10.252\n",
            "Connecting to archive.ics.uci.edu (archive.ics.uci.edu)|128.195.10.252|:80... connected.\n",
            "HTTP request sent, awaiting response... 200 OK\n",
            "Length: 3974305 (3.8M) [application/x-httpd-php]\n",
            "Saving to: ‘adult.data’\n",
            "\n",
            "adult.data          100%[===================>]   3.79M  3.60MB/s    in 1.1s    \n",
            "\n",
            "2020-11-26 04:24:48 (3.60 MB/s) - ‘adult.data’ saved [3974305/3974305]\n",
            "\n"
          ],
          "name": "stdout"
        }
      ]
    },
    {
      "cell_type": "code",
      "metadata": {
        "id": "cT_yRc5hTLW2",
        "colab": {
          "base_uri": "https://localhost:8080/",
          "height": 394
        },
        "outputId": "af16b312-bd30-4a23-beed-0c0f859efd29"
      },
      "source": [
        "import pandas as pd\n",
        "data = pd.read_csv(\"adult.data\")\n",
        "data.head(5)"
      ],
      "execution_count": 23,
      "outputs": [
        {
          "output_type": "execute_result",
          "data": {
            "text/html": [
              "<div>\n",
              "<style scoped>\n",
              "    .dataframe tbody tr th:only-of-type {\n",
              "        vertical-align: middle;\n",
              "    }\n",
              "\n",
              "    .dataframe tbody tr th {\n",
              "        vertical-align: top;\n",
              "    }\n",
              "\n",
              "    .dataframe thead th {\n",
              "        text-align: right;\n",
              "    }\n",
              "</style>\n",
              "<table border=\"1\" class=\"dataframe\">\n",
              "  <thead>\n",
              "    <tr style=\"text-align: right;\">\n",
              "      <th></th>\n",
              "      <th>39</th>\n",
              "      <th>State-gov</th>\n",
              "      <th>77516</th>\n",
              "      <th>Bachelors</th>\n",
              "      <th>13</th>\n",
              "      <th>Never-married</th>\n",
              "      <th>Adm-clerical</th>\n",
              "      <th>Not-in-family</th>\n",
              "      <th>White</th>\n",
              "      <th>Male</th>\n",
              "      <th>2174</th>\n",
              "      <th>0</th>\n",
              "      <th>40</th>\n",
              "      <th>United-States</th>\n",
              "      <th>&lt;=50K</th>\n",
              "    </tr>\n",
              "  </thead>\n",
              "  <tbody>\n",
              "    <tr>\n",
              "      <th>0</th>\n",
              "      <td>50</td>\n",
              "      <td>Self-emp-not-inc</td>\n",
              "      <td>83311</td>\n",
              "      <td>Bachelors</td>\n",
              "      <td>13</td>\n",
              "      <td>Married-civ-spouse</td>\n",
              "      <td>Exec-managerial</td>\n",
              "      <td>Husband</td>\n",
              "      <td>White</td>\n",
              "      <td>Male</td>\n",
              "      <td>0</td>\n",
              "      <td>0</td>\n",
              "      <td>13</td>\n",
              "      <td>United-States</td>\n",
              "      <td>&lt;=50K</td>\n",
              "    </tr>\n",
              "    <tr>\n",
              "      <th>1</th>\n",
              "      <td>38</td>\n",
              "      <td>Private</td>\n",
              "      <td>215646</td>\n",
              "      <td>HS-grad</td>\n",
              "      <td>9</td>\n",
              "      <td>Divorced</td>\n",
              "      <td>Handlers-cleaners</td>\n",
              "      <td>Not-in-family</td>\n",
              "      <td>White</td>\n",
              "      <td>Male</td>\n",
              "      <td>0</td>\n",
              "      <td>0</td>\n",
              "      <td>40</td>\n",
              "      <td>United-States</td>\n",
              "      <td>&lt;=50K</td>\n",
              "    </tr>\n",
              "    <tr>\n",
              "      <th>2</th>\n",
              "      <td>53</td>\n",
              "      <td>Private</td>\n",
              "      <td>234721</td>\n",
              "      <td>11th</td>\n",
              "      <td>7</td>\n",
              "      <td>Married-civ-spouse</td>\n",
              "      <td>Handlers-cleaners</td>\n",
              "      <td>Husband</td>\n",
              "      <td>Black</td>\n",
              "      <td>Male</td>\n",
              "      <td>0</td>\n",
              "      <td>0</td>\n",
              "      <td>40</td>\n",
              "      <td>United-States</td>\n",
              "      <td>&lt;=50K</td>\n",
              "    </tr>\n",
              "    <tr>\n",
              "      <th>3</th>\n",
              "      <td>28</td>\n",
              "      <td>Private</td>\n",
              "      <td>338409</td>\n",
              "      <td>Bachelors</td>\n",
              "      <td>13</td>\n",
              "      <td>Married-civ-spouse</td>\n",
              "      <td>Prof-specialty</td>\n",
              "      <td>Wife</td>\n",
              "      <td>Black</td>\n",
              "      <td>Female</td>\n",
              "      <td>0</td>\n",
              "      <td>0</td>\n",
              "      <td>40</td>\n",
              "      <td>Cuba</td>\n",
              "      <td>&lt;=50K</td>\n",
              "    </tr>\n",
              "    <tr>\n",
              "      <th>4</th>\n",
              "      <td>37</td>\n",
              "      <td>Private</td>\n",
              "      <td>284582</td>\n",
              "      <td>Masters</td>\n",
              "      <td>14</td>\n",
              "      <td>Married-civ-spouse</td>\n",
              "      <td>Exec-managerial</td>\n",
              "      <td>Wife</td>\n",
              "      <td>White</td>\n",
              "      <td>Female</td>\n",
              "      <td>0</td>\n",
              "      <td>0</td>\n",
              "      <td>40</td>\n",
              "      <td>United-States</td>\n",
              "      <td>&lt;=50K</td>\n",
              "    </tr>\n",
              "  </tbody>\n",
              "</table>\n",
              "</div>"
            ],
            "text/plain": [
              "   39          State-gov   77516   Bachelors  ...   0  40   United-States   <=50K\n",
              "0  50   Self-emp-not-inc   83311   Bachelors  ...   0  13   United-States   <=50K\n",
              "1  38            Private  215646     HS-grad  ...   0  40   United-States   <=50K\n",
              "2  53            Private  234721        11th  ...   0  40   United-States   <=50K\n",
              "3  28            Private  338409   Bachelors  ...   0  40            Cuba   <=50K\n",
              "4  37            Private  284582     Masters  ...   0  40   United-States   <=50K\n",
              "\n",
              "[5 rows x 15 columns]"
            ]
          },
          "metadata": {
            "tags": []
          },
          "execution_count": 23
        }
      ]
    },
    {
      "cell_type": "markdown",
      "metadata": {
        "id": "yG3-JQKaTjhd"
      },
      "source": [
        "**Cloning Git Repository**\n",
        "\n",
        "https://github.com/wxs/keras-mnist-tutorial/blob/master/MNIST%20in%20Keras.ipynb"
      ]
    },
    {
      "cell_type": "code",
      "metadata": {
        "id": "il_fUh1fTav9",
        "colab": {
          "base_uri": "https://localhost:8080/"
        },
        "outputId": "66857114-4b5e-44c9-ad59-7deb5a0748aa"
      },
      "source": [
        "!git clone https://github.com/wxs/keras-mnist-tutorial.git"
      ],
      "execution_count": 24,
      "outputs": [
        {
          "output_type": "stream",
          "text": [
            "Cloning into 'keras-mnist-tutorial'...\n",
            "remote: Enumerating objects: 26, done.\u001b[K\n",
            "remote: Total 26 (delta 0), reused 0 (delta 0), pack-reused 26\u001b[K\n",
            "Unpacking objects: 100% (26/26), done.\n"
          ],
          "name": "stdout"
        }
      ]
    },
    {
      "cell_type": "markdown",
      "metadata": {
        "id": "sJOAl0XbTu0V"
      },
      "source": [
        "To get a list of shortcuts for common operations, execute the following command"
      ]
    },
    {
      "cell_type": "code",
      "metadata": {
        "id": "JIJElkshTzuD",
        "colab": {
          "base_uri": "https://localhost:8080/"
        },
        "outputId": "77cf3384-382c-4d11-9b1f-83959e230c81"
      },
      "source": [
        "!ls /bin"
      ],
      "execution_count": 25,
      "outputs": [
        {
          "output_type": "stream",
          "text": [
            "bash\t       hostname       su\n",
            "bunzip2        journalctl     sync\n",
            "bzcat\t       kill\t      systemctl\n",
            "bzcmp\t       kmod\t      systemd\n",
            "bzdiff\t       less\t      systemd-ask-password\n",
            "bzegrep        lessecho       systemd-escape\n",
            "bzexe\t       lessfile       systemd-hwdb\n",
            "bzfgrep        lesskey\t      systemd-inhibit\n",
            "bzgrep\t       lesspipe       systemd-machine-id-setup\n",
            "bzip2\t       ln\t      systemd-notify\n",
            "bzip2recover   login\t      systemd-sysusers\n",
            "bzless\t       loginctl       systemd-tmpfiles\n",
            "bzmore\t       ls\t      systemd-tty-ask-password-agent\n",
            "cat\t       lsblk\t      tar\n",
            "chgrp\t       lsmod\t      tempfile\n",
            "chmod\t       mkdir\t      touch\n",
            "chown\t       mknod\t      true\n",
            "cp\t       mktemp\t      udevadm\n",
            "dash\t       more\t      ulockmgr_server\n",
            "date\t       mount\t      umount\n",
            "dd\t       mountpoint     uname\n",
            "df\t       mv\t      uncompress\n",
            "dir\t       networkctl     vdir\n",
            "dmesg\t       nisdomainname  wdctl\n",
            "dnsdomainname  pidof\t      which\n",
            "domainname     ps\t      ypdomainname\n",
            "echo\t       pwd\t      zcat\n",
            "egrep\t       rbash\t      zcmp\n",
            "false\t       readlink       zdiff\n",
            "fgrep\t       rm\t      zegrep\n",
            "findmnt        rmdir\t      zfgrep\n",
            "fuser\t       run-parts      zforce\n",
            "fusermount     sed\t      zgrep\n",
            "grep\t       sh\t      zless\n",
            "gunzip\t       sh.distrib     zmore\n",
            "gzexe\t       sleep\t      znew\n",
            "gzip\t       stty\n"
          ],
          "name": "stdout"
        }
      ]
    },
    {
      "cell_type": "markdown",
      "metadata": {
        "id": "5sk1cAZpUXQN"
      },
      "source": [
        "**Mounting Drive**\n",
        "\n",
        "Tools / Command palette"
      ]
    },
    {
      "cell_type": "code",
      "metadata": {
        "colab": {
          "base_uri": "https://localhost:8080/"
        },
        "id": "EawJv725T1RN",
        "outputId": "fce864f6-4edd-4b65-ad0b-bd5431886b66"
      },
      "source": [
        "!pip install kaggle"
      ],
      "execution_count": 26,
      "outputs": [
        {
          "output_type": "stream",
          "text": [
            "Requirement already satisfied: kaggle in /usr/local/lib/python3.6/dist-packages (1.5.9)\n",
            "Requirement already satisfied: tqdm in /usr/local/lib/python3.6/dist-packages (from kaggle) (4.41.1)\n",
            "Requirement already satisfied: python-dateutil in /usr/local/lib/python3.6/dist-packages (from kaggle) (2.8.1)\n",
            "Requirement already satisfied: urllib3 in /usr/local/lib/python3.6/dist-packages (from kaggle) (1.24.3)\n",
            "Requirement already satisfied: certifi in /usr/local/lib/python3.6/dist-packages (from kaggle) (2020.11.8)\n",
            "Requirement already satisfied: slugify in /usr/local/lib/python3.6/dist-packages (from kaggle) (0.0.1)\n",
            "Requirement already satisfied: python-slugify in /usr/local/lib/python3.6/dist-packages (from kaggle) (4.0.1)\n",
            "Requirement already satisfied: requests in /usr/local/lib/python3.6/dist-packages (from kaggle) (2.23.0)\n",
            "Requirement already satisfied: six>=1.10 in /usr/local/lib/python3.6/dist-packages (from kaggle) (1.15.0)\n",
            "Requirement already satisfied: text-unidecode>=1.3 in /usr/local/lib/python3.6/dist-packages (from python-slugify->kaggle) (1.3)\n",
            "Requirement already satisfied: chardet<4,>=3.0.2 in /usr/local/lib/python3.6/dist-packages (from requests->kaggle) (3.0.4)\n",
            "Requirement already satisfied: idna<3,>=2.5 in /usr/local/lib/python3.6/dist-packages (from requests->kaggle) (2.10)\n"
          ],
          "name": "stdout"
        }
      ]
    },
    {
      "cell_type": "code",
      "metadata": {
        "colab": {
          "resources": {
            "http://localhost:8080/nbextensions/google.colab/files.js": {
              "data": "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",
              "ok": true,
              "headers": [
                [
                  "content-type",
                  "application/javascript"
                ]
              ],
              "status": 200,
              "status_text": ""
            }
          },
          "base_uri": "https://localhost:8080/",
          "height": 110
        },
        "id": "6keWb2xMfpRs",
        "outputId": "c016bd59-3f51-45f8-a144-11c65bbe6e5b"
      },
      "source": [
        "from google.colab import files\n",
        "files.upload()"
      ],
      "execution_count": 1,
      "outputs": [
        {
          "output_type": "display_data",
          "data": {
            "text/html": [
              "\n",
              "     <input type=\"file\" id=\"files-c670c379-9d55-4ddd-9c73-e70d8c061076\" name=\"files[]\" multiple disabled\n",
              "        style=\"border:none\" />\n",
              "     <output id=\"result-c670c379-9d55-4ddd-9c73-e70d8c061076\">\n",
              "      Upload widget is only available when the cell has been executed in the\n",
              "      current browser session. Please rerun this cell to enable.\n",
              "      </output>\n",
              "      <script src=\"/nbextensions/google.colab/files.js\"></script> "
            ],
            "text/plain": [
              "<IPython.core.display.HTML object>"
            ]
          },
          "metadata": {
            "tags": []
          }
        },
        {
          "output_type": "stream",
          "text": [
            "Saving kaggle.json to kaggle.json\n"
          ],
          "name": "stdout"
        },
        {
          "output_type": "execute_result",
          "data": {
            "text/plain": [
              "{'kaggle.json': b'{\"username\":\"kranthibudigi\",\"key\":\"ba42e25838caedef3c58192fe14e34d7\"}'}"
            ]
          },
          "metadata": {
            "tags": []
          },
          "execution_count": 1
        }
      ]
    },
    {
      "cell_type": "code",
      "metadata": {
        "id": "f7dHdH-igRKS"
      },
      "source": [
        "!mkdir -p ~/.kaggle\n",
        "!cp kaggle.json ~/.kaggle/\n",
        "!chmod 600 ~/.kaggle/kaggle.json"
      ],
      "execution_count": 2,
      "outputs": []
    },
    {
      "cell_type": "code",
      "metadata": {
        "colab": {
          "base_uri": "https://localhost:8080/"
        },
        "id": "y-B3AgOOggWx",
        "outputId": "a40ade76-3982-4817-a6da-29cfb410d2c1"
      },
      "source": [
        "!kaggle datasets download -d hojjatk/mnist-dataset"
      ],
      "execution_count": 3,
      "outputs": [
        {
          "output_type": "stream",
          "text": [
            "Downloading mnist-dataset.zip to /content\n",
            " 77% 17.0M/22.0M [00:00<00:00, 33.8MB/s]\n",
            "100% 22.0M/22.0M [00:00<00:00, 55.7MB/s]\n"
          ],
          "name": "stdout"
        }
      ]
    },
    {
      "cell_type": "code",
      "metadata": {
        "colab": {
          "base_uri": "https://localhost:8080/"
        },
        "id": "GUfWKW58hhtQ",
        "outputId": "94fe722f-a9f1-4e9d-857c-be98da020aa3"
      },
      "source": [
        "!unzip mnist-dataset.zip"
      ],
      "execution_count": 4,
      "outputs": [
        {
          "output_type": "stream",
          "text": [
            "Archive:  mnist-dataset.zip\n",
            "  inflating: t10k-images-idx3-ubyte/t10k-images-idx3-ubyte  \n",
            "  inflating: t10k-images.idx3-ubyte  \n",
            "  inflating: t10k-labels-idx1-ubyte/t10k-labels-idx1-ubyte  \n",
            "  inflating: t10k-labels.idx1-ubyte  \n",
            "  inflating: train-images-idx3-ubyte/train-images-idx3-ubyte  \n",
            "  inflating: train-images.idx3-ubyte  \n",
            "  inflating: train-labels-idx1-ubyte/train-labels-idx1-ubyte  \n",
            "  inflating: train-labels.idx1-ubyte  \n"
          ],
          "name": "stdout"
        }
      ]
    },
    {
      "cell_type": "code",
      "metadata": {
        "colab": {
          "base_uri": "https://localhost:8080/"
        },
        "id": "sTTAdafPhp8g",
        "outputId": "1d02b95b-9f28-4460-d999-47c13038d614"
      },
      "source": [
        "!kaggle datasets download -d oddrationale/mnist-in-csv"
      ],
      "execution_count": 5,
      "outputs": [
        {
          "output_type": "stream",
          "text": [
            "Downloading mnist-in-csv.zip to /content\n",
            " 59% 9.00M/15.2M [00:00<00:00, 17.1MB/s]\n",
            "100% 15.2M/15.2M [00:00<00:00, 24.0MB/s]\n"
          ],
          "name": "stdout"
        }
      ]
    },
    {
      "cell_type": "code",
      "metadata": {
        "colab": {
          "base_uri": "https://localhost:8080/"
        },
        "id": "uaPzVbrvh0dw",
        "outputId": "c793bab2-c100-4164-cb93-24db36c7f50f"
      },
      "source": [
        "!unzip mnist-in-csv.zip"
      ],
      "execution_count": 6,
      "outputs": [
        {
          "output_type": "stream",
          "text": [
            "Archive:  mnist-in-csv.zip\n",
            "  inflating: mnist_test.csv          \n",
            "  inflating: mnist_train.csv         \n"
          ],
          "name": "stdout"
        }
      ]
    },
    {
      "cell_type": "code",
      "metadata": {
        "colab": {
          "base_uri": "https://localhost:8080/",
          "height": 253
        },
        "id": "wrLu6v00h63A",
        "outputId": "075c6aff-d13f-419c-fd9a-7350691f67a1"
      },
      "source": [
        "import pandas as pd\n",
        "df = pd.read_csv('mnist_train.csv')\n",
        "df.head()"
      ],
      "execution_count": 7,
      "outputs": [
        {
          "output_type": "execute_result",
          "data": {
            "text/html": [
              "<div>\n",
              "<style scoped>\n",
              "    .dataframe tbody tr th:only-of-type {\n",
              "        vertical-align: middle;\n",
              "    }\n",
              "\n",
              "    .dataframe tbody tr th {\n",
              "        vertical-align: top;\n",
              "    }\n",
              "\n",
              "    .dataframe thead th {\n",
              "        text-align: right;\n",
              "    }\n",
              "</style>\n",
              "<table border=\"1\" class=\"dataframe\">\n",
              "  <thead>\n",
              "    <tr style=\"text-align: right;\">\n",
              "      <th></th>\n",
              "      <th>label</th>\n",
              "      <th>1x1</th>\n",
              "      <th>1x2</th>\n",
              "      <th>1x3</th>\n",
              "      <th>1x4</th>\n",
              "      <th>1x5</th>\n",
              "      <th>1x6</th>\n",
              "      <th>1x7</th>\n",
              "      <th>1x8</th>\n",
              "      <th>1x9</th>\n",
              "      <th>1x10</th>\n",
              "      <th>1x11</th>\n",
              "      <th>1x12</th>\n",
              "      <th>1x13</th>\n",
              "      <th>1x14</th>\n",
              "      <th>1x15</th>\n",
              "      <th>1x16</th>\n",
              "      <th>1x17</th>\n",
              "      <th>1x18</th>\n",
              "      <th>1x19</th>\n",
              "      <th>1x20</th>\n",
              "      <th>1x21</th>\n",
              "      <th>1x22</th>\n",
              "      <th>1x23</th>\n",
              "      <th>1x24</th>\n",
              "      <th>1x25</th>\n",
              "      <th>1x26</th>\n",
              "      <th>1x27</th>\n",
              "      <th>1x28</th>\n",
              "      <th>2x1</th>\n",
              "      <th>2x2</th>\n",
              "      <th>2x3</th>\n",
              "      <th>2x4</th>\n",
              "      <th>2x5</th>\n",
              "      <th>2x6</th>\n",
              "      <th>2x7</th>\n",
              "      <th>2x8</th>\n",
              "      <th>2x9</th>\n",
              "      <th>2x10</th>\n",
              "      <th>2x11</th>\n",
              "      <th>...</th>\n",
              "      <th>27x17</th>\n",
              "      <th>27x18</th>\n",
              "      <th>27x19</th>\n",
              "      <th>27x20</th>\n",
              "      <th>27x21</th>\n",
              "      <th>27x22</th>\n",
              "      <th>27x23</th>\n",
              "      <th>27x24</th>\n",
              "      <th>27x25</th>\n",
              "      <th>27x26</th>\n",
              "      <th>27x27</th>\n",
              "      <th>27x28</th>\n",
              "      <th>28x1</th>\n",
              "      <th>28x2</th>\n",
              "      <th>28x3</th>\n",
              "      <th>28x4</th>\n",
              "      <th>28x5</th>\n",
              "      <th>28x6</th>\n",
              "      <th>28x7</th>\n",
              "      <th>28x8</th>\n",
              "      <th>28x9</th>\n",
              "      <th>28x10</th>\n",
              "      <th>28x11</th>\n",
              "      <th>28x12</th>\n",
              "      <th>28x13</th>\n",
              "      <th>28x14</th>\n",
              "      <th>28x15</th>\n",
              "      <th>28x16</th>\n",
              "      <th>28x17</th>\n",
              "      <th>28x18</th>\n",
              "      <th>28x19</th>\n",
              "      <th>28x20</th>\n",
              "      <th>28x21</th>\n",
              "      <th>28x22</th>\n",
              "      <th>28x23</th>\n",
              "      <th>28x24</th>\n",
              "      <th>28x25</th>\n",
              "      <th>28x26</th>\n",
              "      <th>28x27</th>\n",
              "      <th>28x28</th>\n",
              "    </tr>\n",
              "  </thead>\n",
              "  <tbody>\n",
              "    <tr>\n",
              "      <th>0</th>\n",
              "      <td>5</td>\n",
              "      <td>0</td>\n",
              "      <td>0</td>\n",
              "      <td>0</td>\n",
              "      <td>0</td>\n",
              "      <td>0</td>\n",
              "      <td>0</td>\n",
              "      <td>0</td>\n",
              "      <td>0</td>\n",
              "      <td>0</td>\n",
              "      <td>0</td>\n",
              "      <td>0</td>\n",
              "      <td>0</td>\n",
              "      <td>0</td>\n",
              "      <td>0</td>\n",
              "      <td>0</td>\n",
              "      <td>0</td>\n",
              "      <td>0</td>\n",
              "      <td>0</td>\n",
              "      <td>0</td>\n",
              "      <td>0</td>\n",
              "      <td>0</td>\n",
              "      <td>0</td>\n",
              "      <td>0</td>\n",
              "      <td>0</td>\n",
              "      <td>0</td>\n",
              "      <td>0</td>\n",
              "      <td>0</td>\n",
              "      <td>0</td>\n",
              "      <td>0</td>\n",
              "      <td>0</td>\n",
              "      <td>0</td>\n",
              "      <td>0</td>\n",
              "      <td>0</td>\n",
              "      <td>0</td>\n",
              "      <td>0</td>\n",
              "      <td>0</td>\n",
              "      <td>0</td>\n",
              "      <td>0</td>\n",
              "      <td>0</td>\n",
              "      <td>...</td>\n",
              "      <td>0</td>\n",
              "      <td>0</td>\n",
              "      <td>0</td>\n",
              "      <td>0</td>\n",
              "      <td>0</td>\n",
              "      <td>0</td>\n",
              "      <td>0</td>\n",
              "      <td>0</td>\n",
              "      <td>0</td>\n",
              "      <td>0</td>\n",
              "      <td>0</td>\n",
              "      <td>0</td>\n",
              "      <td>0</td>\n",
              "      <td>0</td>\n",
              "      <td>0</td>\n",
              "      <td>0</td>\n",
              "      <td>0</td>\n",
              "      <td>0</td>\n",
              "      <td>0</td>\n",
              "      <td>0</td>\n",
              "      <td>0</td>\n",
              "      <td>0</td>\n",
              "      <td>0</td>\n",
              "      <td>0</td>\n",
              "      <td>0</td>\n",
              "      <td>0</td>\n",
              "      <td>0</td>\n",
              "      <td>0</td>\n",
              "      <td>0</td>\n",
              "      <td>0</td>\n",
              "      <td>0</td>\n",
              "      <td>0</td>\n",
              "      <td>0</td>\n",
              "      <td>0</td>\n",
              "      <td>0</td>\n",
              "      <td>0</td>\n",
              "      <td>0</td>\n",
              "      <td>0</td>\n",
              "      <td>0</td>\n",
              "      <td>0</td>\n",
              "    </tr>\n",
              "    <tr>\n",
              "      <th>1</th>\n",
              "      <td>0</td>\n",
              "      <td>0</td>\n",
              "      <td>0</td>\n",
              "      <td>0</td>\n",
              "      <td>0</td>\n",
              "      <td>0</td>\n",
              "      <td>0</td>\n",
              "      <td>0</td>\n",
              "      <td>0</td>\n",
              "      <td>0</td>\n",
              "      <td>0</td>\n",
              "      <td>0</td>\n",
              "      <td>0</td>\n",
              "      <td>0</td>\n",
              "      <td>0</td>\n",
              "      <td>0</td>\n",
              "      <td>0</td>\n",
              "      <td>0</td>\n",
              "      <td>0</td>\n",
              "      <td>0</td>\n",
              "      <td>0</td>\n",
              "      <td>0</td>\n",
              "      <td>0</td>\n",
              "      <td>0</td>\n",
              "      <td>0</td>\n",
              "      <td>0</td>\n",
              "      <td>0</td>\n",
              "      <td>0</td>\n",
              "      <td>0</td>\n",
              "      <td>0</td>\n",
              "      <td>0</td>\n",
              "      <td>0</td>\n",
              "      <td>0</td>\n",
              "      <td>0</td>\n",
              "      <td>0</td>\n",
              "      <td>0</td>\n",
              "      <td>0</td>\n",
              "      <td>0</td>\n",
              "      <td>0</td>\n",
              "      <td>0</td>\n",
              "      <td>...</td>\n",
              "      <td>0</td>\n",
              "      <td>0</td>\n",
              "      <td>0</td>\n",
              "      <td>0</td>\n",
              "      <td>0</td>\n",
              "      <td>0</td>\n",
              "      <td>0</td>\n",
              "      <td>0</td>\n",
              "      <td>0</td>\n",
              "      <td>0</td>\n",
              "      <td>0</td>\n",
              "      <td>0</td>\n",
              "      <td>0</td>\n",
              "      <td>0</td>\n",
              "      <td>0</td>\n",
              "      <td>0</td>\n",
              "      <td>0</td>\n",
              "      <td>0</td>\n",
              "      <td>0</td>\n",
              "      <td>0</td>\n",
              "      <td>0</td>\n",
              "      <td>0</td>\n",
              "      <td>0</td>\n",
              "      <td>0</td>\n",
              "      <td>0</td>\n",
              "      <td>0</td>\n",
              "      <td>0</td>\n",
              "      <td>0</td>\n",
              "      <td>0</td>\n",
              "      <td>0</td>\n",
              "      <td>0</td>\n",
              "      <td>0</td>\n",
              "      <td>0</td>\n",
              "      <td>0</td>\n",
              "      <td>0</td>\n",
              "      <td>0</td>\n",
              "      <td>0</td>\n",
              "      <td>0</td>\n",
              "      <td>0</td>\n",
              "      <td>0</td>\n",
              "    </tr>\n",
              "    <tr>\n",
              "      <th>2</th>\n",
              "      <td>4</td>\n",
              "      <td>0</td>\n",
              "      <td>0</td>\n",
              "      <td>0</td>\n",
              "      <td>0</td>\n",
              "      <td>0</td>\n",
              "      <td>0</td>\n",
              "      <td>0</td>\n",
              "      <td>0</td>\n",
              "      <td>0</td>\n",
              "      <td>0</td>\n",
              "      <td>0</td>\n",
              "      <td>0</td>\n",
              "      <td>0</td>\n",
              "      <td>0</td>\n",
              "      <td>0</td>\n",
              "      <td>0</td>\n",
              "      <td>0</td>\n",
              "      <td>0</td>\n",
              "      <td>0</td>\n",
              "      <td>0</td>\n",
              "      <td>0</td>\n",
              "      <td>0</td>\n",
              "      <td>0</td>\n",
              "      <td>0</td>\n",
              "      <td>0</td>\n",
              "      <td>0</td>\n",
              "      <td>0</td>\n",
              "      <td>0</td>\n",
              "      <td>0</td>\n",
              "      <td>0</td>\n",
              "      <td>0</td>\n",
              "      <td>0</td>\n",
              "      <td>0</td>\n",
              "      <td>0</td>\n",
              "      <td>0</td>\n",
              "      <td>0</td>\n",
              "      <td>0</td>\n",
              "      <td>0</td>\n",
              "      <td>0</td>\n",
              "      <td>...</td>\n",
              "      <td>0</td>\n",
              "      <td>0</td>\n",
              "      <td>0</td>\n",
              "      <td>0</td>\n",
              "      <td>0</td>\n",
              "      <td>0</td>\n",
              "      <td>0</td>\n",
              "      <td>0</td>\n",
              "      <td>0</td>\n",
              "      <td>0</td>\n",
              "      <td>0</td>\n",
              "      <td>0</td>\n",
              "      <td>0</td>\n",
              "      <td>0</td>\n",
              "      <td>0</td>\n",
              "      <td>0</td>\n",
              "      <td>0</td>\n",
              "      <td>0</td>\n",
              "      <td>0</td>\n",
              "      <td>0</td>\n",
              "      <td>0</td>\n",
              "      <td>0</td>\n",
              "      <td>0</td>\n",
              "      <td>0</td>\n",
              "      <td>0</td>\n",
              "      <td>0</td>\n",
              "      <td>0</td>\n",
              "      <td>0</td>\n",
              "      <td>0</td>\n",
              "      <td>0</td>\n",
              "      <td>0</td>\n",
              "      <td>0</td>\n",
              "      <td>0</td>\n",
              "      <td>0</td>\n",
              "      <td>0</td>\n",
              "      <td>0</td>\n",
              "      <td>0</td>\n",
              "      <td>0</td>\n",
              "      <td>0</td>\n",
              "      <td>0</td>\n",
              "    </tr>\n",
              "    <tr>\n",
              "      <th>3</th>\n",
              "      <td>1</td>\n",
              "      <td>0</td>\n",
              "      <td>0</td>\n",
              "      <td>0</td>\n",
              "      <td>0</td>\n",
              "      <td>0</td>\n",
              "      <td>0</td>\n",
              "      <td>0</td>\n",
              "      <td>0</td>\n",
              "      <td>0</td>\n",
              "      <td>0</td>\n",
              "      <td>0</td>\n",
              "      <td>0</td>\n",
              "      <td>0</td>\n",
              "      <td>0</td>\n",
              "      <td>0</td>\n",
              "      <td>0</td>\n",
              "      <td>0</td>\n",
              "      <td>0</td>\n",
              "      <td>0</td>\n",
              "      <td>0</td>\n",
              "      <td>0</td>\n",
              "      <td>0</td>\n",
              "      <td>0</td>\n",
              "      <td>0</td>\n",
              "      <td>0</td>\n",
              "      <td>0</td>\n",
              "      <td>0</td>\n",
              "      <td>0</td>\n",
              "      <td>0</td>\n",
              "      <td>0</td>\n",
              "      <td>0</td>\n",
              "      <td>0</td>\n",
              "      <td>0</td>\n",
              "      <td>0</td>\n",
              "      <td>0</td>\n",
              "      <td>0</td>\n",
              "      <td>0</td>\n",
              "      <td>0</td>\n",
              "      <td>0</td>\n",
              "      <td>...</td>\n",
              "      <td>0</td>\n",
              "      <td>0</td>\n",
              "      <td>0</td>\n",
              "      <td>0</td>\n",
              "      <td>0</td>\n",
              "      <td>0</td>\n",
              "      <td>0</td>\n",
              "      <td>0</td>\n",
              "      <td>0</td>\n",
              "      <td>0</td>\n",
              "      <td>0</td>\n",
              "      <td>0</td>\n",
              "      <td>0</td>\n",
              "      <td>0</td>\n",
              "      <td>0</td>\n",
              "      <td>0</td>\n",
              "      <td>0</td>\n",
              "      <td>0</td>\n",
              "      <td>0</td>\n",
              "      <td>0</td>\n",
              "      <td>0</td>\n",
              "      <td>0</td>\n",
              "      <td>0</td>\n",
              "      <td>0</td>\n",
              "      <td>0</td>\n",
              "      <td>0</td>\n",
              "      <td>0</td>\n",
              "      <td>0</td>\n",
              "      <td>0</td>\n",
              "      <td>0</td>\n",
              "      <td>0</td>\n",
              "      <td>0</td>\n",
              "      <td>0</td>\n",
              "      <td>0</td>\n",
              "      <td>0</td>\n",
              "      <td>0</td>\n",
              "      <td>0</td>\n",
              "      <td>0</td>\n",
              "      <td>0</td>\n",
              "      <td>0</td>\n",
              "    </tr>\n",
              "    <tr>\n",
              "      <th>4</th>\n",
              "      <td>9</td>\n",
              "      <td>0</td>\n",
              "      <td>0</td>\n",
              "      <td>0</td>\n",
              "      <td>0</td>\n",
              "      <td>0</td>\n",
              "      <td>0</td>\n",
              "      <td>0</td>\n",
              "      <td>0</td>\n",
              "      <td>0</td>\n",
              "      <td>0</td>\n",
              "      <td>0</td>\n",
              "      <td>0</td>\n",
              "      <td>0</td>\n",
              "      <td>0</td>\n",
              "      <td>0</td>\n",
              "      <td>0</td>\n",
              "      <td>0</td>\n",
              "      <td>0</td>\n",
              "      <td>0</td>\n",
              "      <td>0</td>\n",
              "      <td>0</td>\n",
              "      <td>0</td>\n",
              "      <td>0</td>\n",
              "      <td>0</td>\n",
              "      <td>0</td>\n",
              "      <td>0</td>\n",
              "      <td>0</td>\n",
              "      <td>0</td>\n",
              "      <td>0</td>\n",
              "      <td>0</td>\n",
              "      <td>0</td>\n",
              "      <td>0</td>\n",
              "      <td>0</td>\n",
              "      <td>0</td>\n",
              "      <td>0</td>\n",
              "      <td>0</td>\n",
              "      <td>0</td>\n",
              "      <td>0</td>\n",
              "      <td>0</td>\n",
              "      <td>...</td>\n",
              "      <td>147</td>\n",
              "      <td>252</td>\n",
              "      <td>42</td>\n",
              "      <td>0</td>\n",
              "      <td>0</td>\n",
              "      <td>0</td>\n",
              "      <td>0</td>\n",
              "      <td>0</td>\n",
              "      <td>0</td>\n",
              "      <td>0</td>\n",
              "      <td>0</td>\n",
              "      <td>0</td>\n",
              "      <td>0</td>\n",
              "      <td>0</td>\n",
              "      <td>0</td>\n",
              "      <td>0</td>\n",
              "      <td>0</td>\n",
              "      <td>0</td>\n",
              "      <td>0</td>\n",
              "      <td>0</td>\n",
              "      <td>0</td>\n",
              "      <td>0</td>\n",
              "      <td>0</td>\n",
              "      <td>0</td>\n",
              "      <td>0</td>\n",
              "      <td>0</td>\n",
              "      <td>0</td>\n",
              "      <td>0</td>\n",
              "      <td>0</td>\n",
              "      <td>0</td>\n",
              "      <td>0</td>\n",
              "      <td>0</td>\n",
              "      <td>0</td>\n",
              "      <td>0</td>\n",
              "      <td>0</td>\n",
              "      <td>0</td>\n",
              "      <td>0</td>\n",
              "      <td>0</td>\n",
              "      <td>0</td>\n",
              "      <td>0</td>\n",
              "    </tr>\n",
              "  </tbody>\n",
              "</table>\n",
              "<p>5 rows × 785 columns</p>\n",
              "</div>"
            ],
            "text/plain": [
              "   label  1x1  1x2  1x3  1x4  1x5  ...  28x23  28x24  28x25  28x26  28x27  28x28\n",
              "0      5    0    0    0    0    0  ...      0      0      0      0      0      0\n",
              "1      0    0    0    0    0    0  ...      0      0      0      0      0      0\n",
              "2      4    0    0    0    0    0  ...      0      0      0      0      0      0\n",
              "3      1    0    0    0    0    0  ...      0      0      0      0      0      0\n",
              "4      9    0    0    0    0    0  ...      0      0      0      0      0      0\n",
              "\n",
              "[5 rows x 785 columns]"
            ]
          },
          "metadata": {
            "tags": []
          },
          "execution_count": 7
        }
      ]
    },
    {
      "cell_type": "markdown",
      "metadata": {
        "id": "XO7REFaUicF7"
      },
      "source": [
        "**functions calling in google colab**"
      ]
    },
    {
      "cell_type": "code",
      "metadata": {
        "colab": {
          "base_uri": "https://localhost:8080/",
          "height": 35
        },
        "id": "RmJY71PUmMwa",
        "outputId": "accf60d0-9797-4713-9b6d-4b82dfc99c95"
      },
      "source": [
        "pwd"
      ],
      "execution_count": 8,
      "outputs": [
        {
          "output_type": "execute_result",
          "data": {
            "application/vnd.google.colaboratory.intrinsic+json": {
              "type": "string"
            },
            "text/plain": [
              "'/content'"
            ]
          },
          "metadata": {
            "tags": []
          },
          "execution_count": 8
        }
      ]
    },
    {
      "cell_type": "code",
      "metadata": {
        "id": "hdEryvyDima_",
        "colab": {
          "base_uri": "https://localhost:8080/"
        },
        "outputId": "74ec3c34-5482-499c-ff50-69c0ee29d1a7"
      },
      "source": [
        "from func_test import state\n",
        "state(3)"
      ],
      "execution_count": 10,
      "outputs": [
        {
          "output_type": "stream",
          "text": [
            "11\n"
          ],
          "name": "stdout"
        }
      ]
    },
    {
      "cell_type": "code",
      "metadata": {
        "id": "LNT0BHj7mGbs"
      },
      "source": [
        ""
      ],
      "execution_count": null,
      "outputs": []
    }
  ]
}